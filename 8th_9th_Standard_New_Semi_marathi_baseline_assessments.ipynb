{
  "nbformat": 4,
  "nbformat_minor": 0,
  "metadata": {
    "colab": {
      "provenance": [],
      "authorship_tag": "ABX9TyPstE3ydmgsa1mjGajMpakJ",
      "include_colab_link": true
    },
    "kernelspec": {
      "name": "python3",
      "display_name": "Python 3"
    },
    "language_info": {
      "name": "python"
    }
  },
  "cells": [
    {
      "cell_type": "markdown",
      "metadata": {
        "id": "view-in-github",
        "colab_type": "text"
      },
      "source": [
        "<a href=\"https://colab.research.google.com/github/path2deep/Kotak_Educational_data/blob/main/8th_9th_Standard_New_Semi_marathi_baseline_assessments.ipynb\" target=\"_parent\"><img src=\"https://colab.research.google.com/assets/colab-badge.svg\" alt=\"Open In Colab\"/></a>"
      ]
    },
    {
      "cell_type": "code",
      "execution_count": 1,
      "metadata": {
        "id": "kT-VUsO6G6rf"
      },
      "outputs": [],
      "source": [
        "import pandas as pd\n",
        "import numpy as np\n",
        "import io\n",
        "import seaborn as sns \n",
        "import matplotlib.pyplot as plt\n",
        "from google.colab import files"
      ]
    },
    {
      "cell_type": "markdown",
      "source": [
        "###Upload e-sundram report"
      ],
      "metadata": {
        "id": "RN5FqBiTHDK2"
      }
    },
    {
      "cell_type": "code",
      "source": [
        "uploaded = files.upload()"
      ],
      "metadata": {
        "colab": {
          "base_uri": "https://localhost:8080/",
          "height": 73
        },
        "id": "oKS0Smn-HCPw",
        "outputId": "c69857d4-585d-4992-f739-56a80044431a"
      },
      "execution_count": 13,
      "outputs": [
        {
          "output_type": "display_data",
          "data": {
            "text/plain": [
              "<IPython.core.display.HTML object>"
            ],
            "text/html": [
              "\n",
              "     <input type=\"file\" id=\"files-f23c08a1-eb6c-46c6-8758-db3e36ea716f\" name=\"files[]\" multiple disabled\n",
              "        style=\"border:none\" />\n",
              "     <output id=\"result-f23c08a1-eb6c-46c6-8758-db3e36ea716f\">\n",
              "      Upload widget is only available when the cell has been executed in the\n",
              "      current browser session. Please rerun this cell to enable.\n",
              "      </output>\n",
              "      <script>// Copyright 2017 Google LLC\n",
              "//\n",
              "// Licensed under the Apache License, Version 2.0 (the \"License\");\n",
              "// you may not use this file except in compliance with the License.\n",
              "// You may obtain a copy of the License at\n",
              "//\n",
              "//      http://www.apache.org/licenses/LICENSE-2.0\n",
              "//\n",
              "// Unless required by applicable law or agreed to in writing, software\n",
              "// distributed under the License is distributed on an \"AS IS\" BASIS,\n",
              "// WITHOUT WARRANTIES OR CONDITIONS OF ANY KIND, either express or implied.\n",
              "// See the License for the specific language governing permissions and\n",
              "// limitations under the License.\n",
              "\n",
              "/**\n",
              " * @fileoverview Helpers for google.colab Python module.\n",
              " */\n",
              "(function(scope) {\n",
              "function span(text, styleAttributes = {}) {\n",
              "  const element = document.createElement('span');\n",
              "  element.textContent = text;\n",
              "  for (const key of Object.keys(styleAttributes)) {\n",
              "    element.style[key] = styleAttributes[key];\n",
              "  }\n",
              "  return element;\n",
              "}\n",
              "\n",
              "// Max number of bytes which will be uploaded at a time.\n",
              "const MAX_PAYLOAD_SIZE = 100 * 1024;\n",
              "\n",
              "function _uploadFiles(inputId, outputId) {\n",
              "  const steps = uploadFilesStep(inputId, outputId);\n",
              "  const outputElement = document.getElementById(outputId);\n",
              "  // Cache steps on the outputElement to make it available for the next call\n",
              "  // to uploadFilesContinue from Python.\n",
              "  outputElement.steps = steps;\n",
              "\n",
              "  return _uploadFilesContinue(outputId);\n",
              "}\n",
              "\n",
              "// This is roughly an async generator (not supported in the browser yet),\n",
              "// where there are multiple asynchronous steps and the Python side is going\n",
              "// to poll for completion of each step.\n",
              "// This uses a Promise to block the python side on completion of each step,\n",
              "// then passes the result of the previous step as the input to the next step.\n",
              "function _uploadFilesContinue(outputId) {\n",
              "  const outputElement = document.getElementById(outputId);\n",
              "  const steps = outputElement.steps;\n",
              "\n",
              "  const next = steps.next(outputElement.lastPromiseValue);\n",
              "  return Promise.resolve(next.value.promise).then((value) => {\n",
              "    // Cache the last promise value to make it available to the next\n",
              "    // step of the generator.\n",
              "    outputElement.lastPromiseValue = value;\n",
              "    return next.value.response;\n",
              "  });\n",
              "}\n",
              "\n",
              "/**\n",
              " * Generator function which is called between each async step of the upload\n",
              " * process.\n",
              " * @param {string} inputId Element ID of the input file picker element.\n",
              " * @param {string} outputId Element ID of the output display.\n",
              " * @return {!Iterable<!Object>} Iterable of next steps.\n",
              " */\n",
              "function* uploadFilesStep(inputId, outputId) {\n",
              "  const inputElement = document.getElementById(inputId);\n",
              "  inputElement.disabled = false;\n",
              "\n",
              "  const outputElement = document.getElementById(outputId);\n",
              "  outputElement.innerHTML = '';\n",
              "\n",
              "  const pickedPromise = new Promise((resolve) => {\n",
              "    inputElement.addEventListener('change', (e) => {\n",
              "      resolve(e.target.files);\n",
              "    });\n",
              "  });\n",
              "\n",
              "  const cancel = document.createElement('button');\n",
              "  inputElement.parentElement.appendChild(cancel);\n",
              "  cancel.textContent = 'Cancel upload';\n",
              "  const cancelPromise = new Promise((resolve) => {\n",
              "    cancel.onclick = () => {\n",
              "      resolve(null);\n",
              "    };\n",
              "  });\n",
              "\n",
              "  // Wait for the user to pick the files.\n",
              "  const files = yield {\n",
              "    promise: Promise.race([pickedPromise, cancelPromise]),\n",
              "    response: {\n",
              "      action: 'starting',\n",
              "    }\n",
              "  };\n",
              "\n",
              "  cancel.remove();\n",
              "\n",
              "  // Disable the input element since further picks are not allowed.\n",
              "  inputElement.disabled = true;\n",
              "\n",
              "  if (!files) {\n",
              "    return {\n",
              "      response: {\n",
              "        action: 'complete',\n",
              "      }\n",
              "    };\n",
              "  }\n",
              "\n",
              "  for (const file of files) {\n",
              "    const li = document.createElement('li');\n",
              "    li.append(span(file.name, {fontWeight: 'bold'}));\n",
              "    li.append(span(\n",
              "        `(${file.type || 'n/a'}) - ${file.size} bytes, ` +\n",
              "        `last modified: ${\n",
              "            file.lastModifiedDate ? file.lastModifiedDate.toLocaleDateString() :\n",
              "                                    'n/a'} - `));\n",
              "    const percent = span('0% done');\n",
              "    li.appendChild(percent);\n",
              "\n",
              "    outputElement.appendChild(li);\n",
              "\n",
              "    const fileDataPromise = new Promise((resolve) => {\n",
              "      const reader = new FileReader();\n",
              "      reader.onload = (e) => {\n",
              "        resolve(e.target.result);\n",
              "      };\n",
              "      reader.readAsArrayBuffer(file);\n",
              "    });\n",
              "    // Wait for the data to be ready.\n",
              "    let fileData = yield {\n",
              "      promise: fileDataPromise,\n",
              "      response: {\n",
              "        action: 'continue',\n",
              "      }\n",
              "    };\n",
              "\n",
              "    // Use a chunked sending to avoid message size limits. See b/62115660.\n",
              "    let position = 0;\n",
              "    do {\n",
              "      const length = Math.min(fileData.byteLength - position, MAX_PAYLOAD_SIZE);\n",
              "      const chunk = new Uint8Array(fileData, position, length);\n",
              "      position += length;\n",
              "\n",
              "      const base64 = btoa(String.fromCharCode.apply(null, chunk));\n",
              "      yield {\n",
              "        response: {\n",
              "          action: 'append',\n",
              "          file: file.name,\n",
              "          data: base64,\n",
              "        },\n",
              "      };\n",
              "\n",
              "      let percentDone = fileData.byteLength === 0 ?\n",
              "          100 :\n",
              "          Math.round((position / fileData.byteLength) * 100);\n",
              "      percent.textContent = `${percentDone}% done`;\n",
              "\n",
              "    } while (position < fileData.byteLength);\n",
              "  }\n",
              "\n",
              "  // All done.\n",
              "  yield {\n",
              "    response: {\n",
              "      action: 'complete',\n",
              "    }\n",
              "  };\n",
              "}\n",
              "\n",
              "scope.google = scope.google || {};\n",
              "scope.google.colab = scope.google.colab || {};\n",
              "scope.google.colab._files = {\n",
              "  _uploadFiles,\n",
              "  _uploadFilesContinue,\n",
              "};\n",
              "})(self);\n",
              "</script> "
            ]
          },
          "metadata": {}
        },
        {
          "output_type": "stream",
          "name": "stdout",
          "text": [
            "Saving NarayanRaoAcharya.xlsx to NarayanRaoAcharya (2).xlsx\n"
          ]
        }
      ]
    },
    {
      "cell_type": "markdown",
      "source": [
        "#### file"
      ],
      "metadata": {
        "id": "R4WXfljAwHim"
      }
    },
    {
      "cell_type": "code",
      "source": [
        "file = io.BytesIO(uploaded.get(\"NarayanRaoAcharya.xlsx\"))"
      ],
      "metadata": {
        "id": "_Hum2u4JwGs0"
      },
      "execution_count": null,
      "outputs": []
    },
    {
      "cell_type": "markdown",
      "source": [
        "#### For 8th Standard"
      ],
      "metadata": {
        "id": "A3w8hf4pwNpP"
      }
    },
    {
      "cell_type": "code",
      "source": [
        "# for 8th Standard\n",
        "df1 = pd.read_excel(file, 'STDVIIISEM_Digital', skiprows=[0])"
      ],
      "metadata": {
        "id": "viLLSY69wQnY"
      },
      "execution_count": null,
      "outputs": []
    },
    {
      "cell_type": "markdown",
      "source": [
        "#### For 9th Standard"
      ],
      "metadata": {
        "id": "z5tQUwBKwV5V"
      }
    },
    {
      "cell_type": "code",
      "source": [
        "# for 9th standard\n",
        "df1 = pd.read_excel(file, 'STDIXSEM_Digital', skiprows=[0])"
      ],
      "metadata": {
        "id": "quZH_jE6wTNz"
      },
      "execution_count": null,
      "outputs": []
    },
    {
      "cell_type": "code",
      "source": [
        "#columns name\n",
        "cols = {'Unnamed: 0': \"Student/Teacher\", 'Unnamed: 1': \"School\", 'Unnamed: 2':\"Course\", 'Unnamed: 3': \"UserID\",\n",
        "        'Unnamed: 4': \"EnrollmentID\", 'Unnamed: 5': \"StudentName\", 'Unnamed: 6': \"Division\", 'Unnamed: 7': \"EmailID\",\n",
        "        'Unnamed: 8': \"Gender\",\n",
        "   }\n",
        "df1 = df1.rename(columns=cols)\n",
        "df1 = df1[['Student/Teacher', 'School','EnrollmentID','StudentName',]]\n",
        "\n",
        "#MCQ\n",
        "df2 = pd.read_excel(file, 'MCQ Report')\n",
        "\n",
        "#code\n",
        "df2 =df2[['School','EnrollmentID', 'StudentName','Division','Subject','Chapter','TestMarksObtained', 'TestMarks', 'Percentage']]\n",
        "df2 = df2[df2['Subject']=='KEF Assessment']"
      ],
      "metadata": {
        "id": "u-sAh52VHVoU"
      },
      "execution_count": 14,
      "outputs": []
    },
    {
      "cell_type": "code",
      "source": [
        "math = df2[(df2['Chapter']=='Maths Baseline (Marathi)') |(df2['Chapter']=='Maths Baseline (Semi)')]\n",
        "science = df2[(df2['Chapter']== 'Science baseline (Marathi)') | (df2['Chapter']=='Science baseline (Semi)\\t') | (df2['Chapter']=='Science Baseline-(Marathi)')| (df2['Chapter']== 'Science Baseline (Semi)')| (df2['Chapter']=='Science Baseline (Marathi)')]\n",
        "english = df2[(df2['Chapter']=='English baseline')| (df2['Chapter']=='English baseline (marathi)') | (df2['Chapter']=='English Baseline')]\n",
        "\n",
        "\n",
        "col1 = {'TestMarksObtained':\"Math\"}\n",
        "col2 = {'TestMarksObtained':\"Science\"}\n",
        "col3 = {'TestMarksObtained':\"English\"}\n",
        "math =    math.rename(columns=col1)\n",
        "science = science.rename(columns=col2)\n",
        "english = english.rename(columns=col3)\n",
        "\n",
        "math = math[['EnrollmentID','Division','Math']]\n",
        "science = science[['EnrollmentID', 'Science']]\n",
        "english = english[['EnrollmentID','English']]\n",
        "\n",
        "base_math = pd.merge(df1,\n",
        "                      math,\n",
        "                      \n",
        "                      on = 'EnrollmentID',\n",
        "                      how = 'left'\n",
        "                         )\n",
        "base_math_sci = pd.merge(base_math,\n",
        "                      science,\n",
        "                      \n",
        "                      on = 'EnrollmentID',\n",
        "                      how = 'left'\n",
        "                         )\n",
        "\n",
        "base_math_sci_eng = pd.merge(base_math_sci,\n",
        "                      english,\n",
        "                     \n",
        "                      on = 'EnrollmentID',\n",
        "                      how = 'left'\n",
        "                         )\n",
        "\n",
        "base_math_sci_eng = base_math_sci_eng[['Student/Teacher', 'School' ,'Division','EnrollmentID','StudentName',\n",
        "                                       'Math','Science','English']]\n",
        "base_math_sci_eng= base_math_sci_eng.drop_duplicates(subset=['EnrollmentID'], keep='first') \n",
        "base_math_sci_eng= base_math_sci_eng.sort_values(by=['Division'])                           "
      ],
      "metadata": {
        "id": "cusqqIKwr1lm"
      },
      "execution_count": 17,
      "outputs": []
    },
    {
      "cell_type": "markdown",
      "source": [
        "###### Downlaod_assessment_report \"write school name in ----- \""
      ],
      "metadata": {
        "id": "0lODz3YRYRZm"
      }
    },
    {
      "cell_type": "code",
      "source": [
        "base_math_sci_eng.to_excel('narayanraoacharya_assessment_8th standard_new.xlsx')"
      ],
      "metadata": {
        "id": "B9XceDGkI5Uh"
      },
      "execution_count": 18,
      "outputs": []
    },
    {
      "cell_type": "code",
      "source": [],
      "metadata": {
        "id": "Lf7X6LhRJ2Ll"
      },
      "execution_count": null,
      "outputs": []
    }
  ]
}