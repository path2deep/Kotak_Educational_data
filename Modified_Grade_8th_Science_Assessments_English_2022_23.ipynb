{
  "nbformat": 4,
  "nbformat_minor": 0,
  "metadata": {
    "colab": {
      "provenance": [],
      "authorship_tag": "ABX9TyOB6phhHoaM/rEnc9yJU8Zz",
      "include_colab_link": true
    },
    "kernelspec": {
      "name": "python3",
      "display_name": "Python 3"
    },
    "language_info": {
      "name": "python"
    }
  },
  "cells": [
    {
      "cell_type": "markdown",
      "metadata": {
        "id": "view-in-github",
        "colab_type": "text"
      },
      "source": [
        "<a href=\"https://colab.research.google.com/github/path2deep/Kotak_Educational_data/blob/main/Modified_Grade_8th_Science_Assessments_English_2022_23.ipynb\" target=\"_parent\"><img src=\"https://colab.research.google.com/assets/colab-badge.svg\" alt=\"Open In Colab\"/></a>"
      ]
    },
    {
      "cell_type": "code",
      "execution_count": null,
      "metadata": {
        "id": "VAAaTSEPkKJj"
      },
      "outputs": [],
      "source": [
        "import pandas as pd\n",
        "import numpy as np\n",
        "import io\n",
        "import seaborn as sns \n",
        "import matplotlib.pyplot as plt\n",
        "from google.colab import files"
      ]
    },
    {
      "cell_type": "markdown",
      "source": [
        "## uploading all assessments file"
      ],
      "metadata": {
        "id": "ZT7LHT5LlBXs"
      }
    },
    {
      "cell_type": "markdown",
      "source": [
        "##### Marathi"
      ],
      "metadata": {
        "id": "HWDLqlsfQ2Sq"
      }
    },
    {
      "cell_type": "code",
      "source": [
        "uploaded = files.upload()"
      ],
      "metadata": {
        "colab": {
          "base_uri": "https://localhost:8080/",
          "height": 90
        },
        "id": "R3ShI0Ark6h1",
        "outputId": "1a6cc6ab-9b52-40de-c931-0a2e0d0e06de"
      },
      "execution_count": null,
      "outputs": [
        {
          "output_type": "display_data",
          "data": {
            "text/plain": [
              "<IPython.core.display.HTML object>"
            ],
            "text/html": [
              "\n",
              "     <input type=\"file\" id=\"files-ce5d06d3-a5c2-4054-9b88-efabd6628ca1\" name=\"files[]\" multiple disabled\n",
              "        style=\"border:none\" />\n",
              "     <output id=\"result-ce5d06d3-a5c2-4054-9b88-efabd6628ca1\">\n",
              "      Upload widget is only available when the cell has been executed in the\n",
              "      current browser session. Please rerun this cell to enable.\n",
              "      </output>\n",
              "      <script>// Copyright 2017 Google LLC\n",
              "//\n",
              "// Licensed under the Apache License, Version 2.0 (the \"License\");\n",
              "// you may not use this file except in compliance with the License.\n",
              "// You may obtain a copy of the License at\n",
              "//\n",
              "//      http://www.apache.org/licenses/LICENSE-2.0\n",
              "//\n",
              "// Unless required by applicable law or agreed to in writing, software\n",
              "// distributed under the License is distributed on an \"AS IS\" BASIS,\n",
              "// WITHOUT WARRANTIES OR CONDITIONS OF ANY KIND, either express or implied.\n",
              "// See the License for the specific language governing permissions and\n",
              "// limitations under the License.\n",
              "\n",
              "/**\n",
              " * @fileoverview Helpers for google.colab Python module.\n",
              " */\n",
              "(function(scope) {\n",
              "function span(text, styleAttributes = {}) {\n",
              "  const element = document.createElement('span');\n",
              "  element.textContent = text;\n",
              "  for (const key of Object.keys(styleAttributes)) {\n",
              "    element.style[key] = styleAttributes[key];\n",
              "  }\n",
              "  return element;\n",
              "}\n",
              "\n",
              "// Max number of bytes which will be uploaded at a time.\n",
              "const MAX_PAYLOAD_SIZE = 100 * 1024;\n",
              "\n",
              "function _uploadFiles(inputId, outputId) {\n",
              "  const steps = uploadFilesStep(inputId, outputId);\n",
              "  const outputElement = document.getElementById(outputId);\n",
              "  // Cache steps on the outputElement to make it available for the next call\n",
              "  // to uploadFilesContinue from Python.\n",
              "  outputElement.steps = steps;\n",
              "\n",
              "  return _uploadFilesContinue(outputId);\n",
              "}\n",
              "\n",
              "// This is roughly an async generator (not supported in the browser yet),\n",
              "// where there are multiple asynchronous steps and the Python side is going\n",
              "// to poll for completion of each step.\n",
              "// This uses a Promise to block the python side on completion of each step,\n",
              "// then passes the result of the previous step as the input to the next step.\n",
              "function _uploadFilesContinue(outputId) {\n",
              "  const outputElement = document.getElementById(outputId);\n",
              "  const steps = outputElement.steps;\n",
              "\n",
              "  const next = steps.next(outputElement.lastPromiseValue);\n",
              "  return Promise.resolve(next.value.promise).then((value) => {\n",
              "    // Cache the last promise value to make it available to the next\n",
              "    // step of the generator.\n",
              "    outputElement.lastPromiseValue = value;\n",
              "    return next.value.response;\n",
              "  });\n",
              "}\n",
              "\n",
              "/**\n",
              " * Generator function which is called between each async step of the upload\n",
              " * process.\n",
              " * @param {string} inputId Element ID of the input file picker element.\n",
              " * @param {string} outputId Element ID of the output display.\n",
              " * @return {!Iterable<!Object>} Iterable of next steps.\n",
              " */\n",
              "function* uploadFilesStep(inputId, outputId) {\n",
              "  const inputElement = document.getElementById(inputId);\n",
              "  inputElement.disabled = false;\n",
              "\n",
              "  const outputElement = document.getElementById(outputId);\n",
              "  outputElement.innerHTML = '';\n",
              "\n",
              "  const pickedPromise = new Promise((resolve) => {\n",
              "    inputElement.addEventListener('change', (e) => {\n",
              "      resolve(e.target.files);\n",
              "    });\n",
              "  });\n",
              "\n",
              "  const cancel = document.createElement('button');\n",
              "  inputElement.parentElement.appendChild(cancel);\n",
              "  cancel.textContent = 'Cancel upload';\n",
              "  const cancelPromise = new Promise((resolve) => {\n",
              "    cancel.onclick = () => {\n",
              "      resolve(null);\n",
              "    };\n",
              "  });\n",
              "\n",
              "  // Wait for the user to pick the files.\n",
              "  const files = yield {\n",
              "    promise: Promise.race([pickedPromise, cancelPromise]),\n",
              "    response: {\n",
              "      action: 'starting',\n",
              "    }\n",
              "  };\n",
              "\n",
              "  cancel.remove();\n",
              "\n",
              "  // Disable the input element since further picks are not allowed.\n",
              "  inputElement.disabled = true;\n",
              "\n",
              "  if (!files) {\n",
              "    return {\n",
              "      response: {\n",
              "        action: 'complete',\n",
              "      }\n",
              "    };\n",
              "  }\n",
              "\n",
              "  for (const file of files) {\n",
              "    const li = document.createElement('li');\n",
              "    li.append(span(file.name, {fontWeight: 'bold'}));\n",
              "    li.append(span(\n",
              "        `(${file.type || 'n/a'}) - ${file.size} bytes, ` +\n",
              "        `last modified: ${\n",
              "            file.lastModifiedDate ? file.lastModifiedDate.toLocaleDateString() :\n",
              "                                    'n/a'} - `));\n",
              "    const percent = span('0% done');\n",
              "    li.appendChild(percent);\n",
              "\n",
              "    outputElement.appendChild(li);\n",
              "\n",
              "    const fileDataPromise = new Promise((resolve) => {\n",
              "      const reader = new FileReader();\n",
              "      reader.onload = (e) => {\n",
              "        resolve(e.target.result);\n",
              "      };\n",
              "      reader.readAsArrayBuffer(file);\n",
              "    });\n",
              "    // Wait for the data to be ready.\n",
              "    let fileData = yield {\n",
              "      promise: fileDataPromise,\n",
              "      response: {\n",
              "        action: 'continue',\n",
              "      }\n",
              "    };\n",
              "\n",
              "    // Use a chunked sending to avoid message size limits. See b/62115660.\n",
              "    let position = 0;\n",
              "    do {\n",
              "      const length = Math.min(fileData.byteLength - position, MAX_PAYLOAD_SIZE);\n",
              "      const chunk = new Uint8Array(fileData, position, length);\n",
              "      position += length;\n",
              "\n",
              "      const base64 = btoa(String.fromCharCode.apply(null, chunk));\n",
              "      yield {\n",
              "        response: {\n",
              "          action: 'append',\n",
              "          file: file.name,\n",
              "          data: base64,\n",
              "        },\n",
              "      };\n",
              "\n",
              "      let percentDone = fileData.byteLength === 0 ?\n",
              "          100 :\n",
              "          Math.round((position / fileData.byteLength) * 100);\n",
              "      percent.textContent = `${percentDone}% done`;\n",
              "\n",
              "    } while (position < fileData.byteLength);\n",
              "  }\n",
              "\n",
              "  // All done.\n",
              "  yield {\n",
              "    response: {\n",
              "      action: 'complete',\n",
              "    }\n",
              "  };\n",
              "}\n",
              "\n",
              "scope.google = scope.google || {};\n",
              "scope.google.colab = scope.google.colab || {};\n",
              "scope.google.colab._files = {\n",
              "  _uploadFiles,\n",
              "  _uploadFilesContinue,\n",
              "};\n",
              "})(self);\n",
              "</script> "
            ]
          },
          "metadata": {}
        },
        {
          "output_type": "stream",
          "name": "stdout",
          "text": [
            "Saving 8th Std Semi with Marathi Math-Sci (Science Baseline (Marathi)).xlsx to 8th Std Semi with Marathi Math-Sci (Science Baseline (Marathi)).xlsx\n"
          ]
        }
      ]
    },
    {
      "cell_type": "code",
      "source": [
        "file = io.BytesIO(uploaded.get(\"8th Std Semi with Marathi Math-Sci (Science Baseline (Marathi)).xlsx\"))\n",
        "sci1 = pd.read_excel(file, 'Report')"
      ],
      "metadata": {
        "id": "jhttYNESlGb9"
      },
      "execution_count": null,
      "outputs": []
    },
    {
      "cell_type": "markdown",
      "source": [
        "##### Semi Marathi"
      ],
      "metadata": {
        "id": "4BdBnlEYErE9"
      }
    },
    {
      "cell_type": "code",
      "source": [
        "uploaded = files.upload()"
      ],
      "metadata": {
        "id": "P0g1K44tEi3N"
      },
      "execution_count": null,
      "outputs": []
    },
    {
      "cell_type": "code",
      "source": [
        "file = io.BytesIO(uploaded.get(\"8th Std Semi with Marathi Math-Sci (Science Baseline (Semi)).xlsx\"))\n",
        "sci2 = pd.read_excel(file, 'Report')"
      ],
      "metadata": {
        "id": "iqXAlTNqEi55"
      },
      "execution_count": null,
      "outputs": []
    },
    {
      "cell_type": "markdown",
      "source": [
        "#### Analysis"
      ],
      "metadata": {
        "id": "UAQOHi4FE8Pu"
      }
    },
    {
      "cell_type": "code",
      "source": [
        "# Science Marathi\n",
        "# print('The toal number of entries in Science Marathi', sci1.shape)\n",
        "\n",
        "# removing all entries with multiple selection\n",
        "sci1_1 = sci1[~(sci1 == 0).any(axis=1)]\n",
        "\n",
        "#total number of records after removing multiple selection\n",
        "# print('The total number of record after removing multiple selection', sci1_1.shape)\n",
        "\n",
        "# removing the duplicates and keepking last recorded entries\n",
        "sci1_1 = sci1_1.drop_duplicates(subset=['EnrollmentID'], keep='last')\n",
        "\n",
        "# total number of records after removin the duplicates\n",
        "# print('The final number records', sci1_1.shape)\n",
        "\n",
        "# Science Semi\n",
        "# print('the total number of records in Science Semi', sci2.shape )\n",
        "\n",
        "# removing all entries with multiple selection\n",
        "\n",
        "sci2_2 = sci2[~(sci2 == 0).any(axis=1)]\n",
        "# Total entries number records after removing multiple selection\n",
        "# print('the total number of records after removing multiple selection', sci2_2.shape)\n",
        "\n",
        "# removing the duplicates and keeping the last entries\n",
        "sci2_2 = sci2_2.drop_duplicates(subset=['EnrollmentID'], keep='last')\n",
        "\n",
        "#total number of records after removing the dubplicates\n",
        "# print('the final records in semi marathi science', sci2_2.shape )\n",
        "\n",
        "\n",
        "## combining all files\n",
        "sci = pd.concat([sci1_1, sci2_2], ignore_index=True)\n",
        "# Total number of records after combining both files\n",
        "# print('Total number of records for marathi and semi', sci.shape)"
      ],
      "metadata": {
        "colab": {
          "base_uri": "https://localhost:8080/"
        },
        "id": "x-_GBdYBYY9_",
        "outputId": "13d01677-4ff9-446d-9a24-d9f96cf76f1e"
      },
      "execution_count": null,
      "outputs": [
        {
          "output_type": "execute_result",
          "data": {
            "text/plain": [
              "(4, 39)"
            ]
          },
          "metadata": {},
          "execution_count": 4
        }
      ]
    },
    {
      "cell_type": "markdown",
      "source": [
        "### Mapping"
      ],
      "metadata": {
        "id": "XbhHESLSHG7I"
      }
    },
    {
      "cell_type": "code",
      "source": [
        "# selecting the columns\n",
        "sci = sci[['School','EnrollmentID','StudentName','IndexNo',\n",
        "           641690085,         641690086,         641690087,641690088,         641690089,         641690090,\n",
        "           641690091,         641690092,         641690093,641690094,         641690095,         641690096,\n",
        "           641690097,         641690098,         641690099,641690100,         641690101,         641690102,\n",
        "           641690103,         641690104,         641690105,641690106,         641690107,         641690108,\n",
        "           641690109,         641690110,         641690111,\n",
        "\n",
        "           641690058,         641690059,         641690060,641690061,         641690062,         641690063,\n",
        "           641690064,         641690065,         641690066,641690067,         641690068,         641690069,\n",
        "           641690070,         641690071,         641690072,641690073,         641690074,         641690075,\n",
        "           641690076,         641690077,         641690078,641690079,         641690080,         641690081,\n",
        "           641690082,         641690083,         641690084]]\n",
        "\n",
        "# Converting option selected to marks\n",
        "\n",
        "#Marathi\n",
        "sci['641690085_Marks'] = [1 if x == 2 else 0 for x in sci[641690085]]\n",
        "sci['641690086_Marks'] = [2 if x == 1 else 0 for x in sci[641690086]]\n",
        "sci['641690087_Marks'] = [1 if x == 2 else 0 for x in sci[641690087]]\n",
        "sci['641690088_Marks'] = [1 if x == 4 else 0 for x in sci[641690088]]\n",
        "sci['641690089_Marks'] = [1 if x == 1 else 0 for x in sci[641690089]]\n",
        "sci['641690090_Marks'] = [2 if x == 3 else 0 for x in sci[641690090]]\n",
        "sci['641690091_Marks'] = [1 if x == 1 else 0 for x in sci[641690091]]\n",
        "\n",
        "sci['641690092_Marks'] = [1 if x == 3 else 0 for x in sci[641690092]]\n",
        "sci['641690093_Marks'] = [2 if x == 2 else 0 for x in sci[641690093]]\n",
        "sci['641690094_Marks'] = [1 if x == 3 else 0 for x in sci[641690094]]\n",
        "sci['641690095_Marks'] = [2 if x == 4 else 0 for x in sci[641690095]]\n",
        "sci['641690096_Marks'] = [2 if x == 4 else 0 for x in sci[641690096]]\n",
        "sci['641690097_Marks'] = [1 if x == 4 else 0 for x in sci[641690097]]\n",
        "sci['641690098_Marks'] = [2 if x == 1 else 0 for x in sci[641690098]]\n",
        "\n",
        "sci['641690099_Marks'] = [1 if x == 4 else 0 for x in sci[641690099]]\n",
        "sci['641690100_Marks'] = [1 if x == 2 else 0 for x in sci[641690100]]\n",
        "sci['641690101_Marks'] = [2 if x == 3 else 0 for x in sci[641690101]]\n",
        "sci['641690102_Marks'] = [2 if x == 3 else 0 for x in sci[641690102]]\n",
        "sci['641690103_Marks'] = [2 if x == 4 else 0 for x in sci[641690103]]\n",
        "sci['641690104_Marks'] = [1 if x == 2 else 0 for x in sci[641690104]]\n",
        "sci['641690105_Marks'] = [2 if x == 4 else 0 for x in sci[641690105]]\n",
        "\n",
        "sci['641690106_Marks'] = [2 if x == 4 else 0 for x in sci[641690106]]\n",
        "sci['641690107_Marks'] = [2 if x == 4 else 0 for x in sci[641690107]]\n",
        "sci['641690108_Marks'] = [2 if x == 4 else 0 for x in sci[641690108]]\n",
        "sci['641690109_Marks'] = [1 if x == 3 else 0 for x in sci[641690109]]\n",
        "sci['641690110_Marks'] = [1 if x == 1 else 0 for x in sci[641690110]]\n",
        "sci['641690111_Marks'] = [1 if x == 2 else 0 for x in sci[641690111]]\n",
        "\n",
        "\n",
        "#Semi Marathi\n",
        "\n",
        "sci['641690058_Marks'] = [1 if x == 2 else 0 for x in sci[641690058]]\n",
        "sci['641690059_Marks'] = [2 if x == 1 else 0 for x in sci[641690059]]\n",
        "sci['641690060_Marks'] = [1 if x == 2 else 0 for x in sci[641690060]]\n",
        "sci['641690061_Marks'] = [1 if x == 4 else 0 for x in sci[641690061]]\n",
        "sci['641690062_Marks'] = [2 if x == 3 else 0 for x in sci[641690062]]\n",
        "sci['641690063_Marks'] = [1 if x == 1 else 0 for x in sci[641690063]]\n",
        "sci['641690064_Marks'] = [1 if x == 3 else 0 for x in sci[641690064]]\n",
        "\n",
        "sci['641690065_Marks'] = [2 if x == 2 else 0 for x in sci[641690065]]\n",
        "sci['641690066_Marks'] = [1 if x == 3 else 0 for x in sci[641690066]]\n",
        "sci['641690067_Marks'] = [2 if x == 4 else 0 for x in sci[641690067]]\n",
        "sci['641690068_Marks'] = [2 if x == 4 else 0 for x in sci[641690068]]\n",
        "sci['641690069_Marks'] = [1 if x == 4 else 0 for x in sci[641690069]]\n",
        "sci['641690070_Marks'] = [2 if x == 1 else 0 for x in sci[641690070]]\n",
        "sci['641690071_Marks'] = [1 if x == 4 else 0 for x in sci[641690071]]\n",
        "\n",
        "sci['641690072_Marks'] = [1 if x == 2 else 0 for x in sci[641690072]]\n",
        "sci['641690073_Marks'] = [2 if x == 3 else 0 for x in sci[641690073]]\n",
        "sci['641690074_Marks'] = [2 if x == 3 else 0 for x in sci[641690074]]\n",
        "sci['641690075_Marks'] = [2 if x == 4 else 0 for x in sci[641690075]]\n",
        "sci['641690076_Marks'] = [1 if x == 2 else 0 for x in sci[641690076]]\n",
        "sci['641690077_Marks'] = [2 if x == 4 else 0 for x in sci[641690077]]\n",
        "sci['641690078_Marks'] = [2 if x == 4 else 0 for x in sci[641690078]]\n",
        "\n",
        "sci['641690079_Marks'] = [2 if x == 4 else 0 for x in sci[641690079]]\n",
        "sci['641690080_Marks'] = [2 if x == 4 else 0 for x in sci[641690080]]\n",
        "sci['641690081_Marks'] = [1 if x == 3 else 0 for x in sci[641690081]]\n",
        "sci['641690082_Marks'] = [1 if x == 1 else 0 for x in sci[641690082]]\n",
        "sci['641690083_Marks'] = [1 if x == 2 else 0 for x in sci[641690083]]\n",
        "sci['641690084_Marks'] = [1 if x == 1 else 0 for x in sci[641690084]]\n",
        "\n",
        "# Total Marks obtained\n",
        "\n",
        "sci['Marks_Obatined'] = (sci['641690085_Marks']+sci['641690086_Marks']+sci['641690087_Marks']+ sci['641690088_Marks']+sci['641690089_Marks']+\n",
        "                        sci['641690090_Marks']+sci['641690091_Marks']+sci['641690092_Marks']+ sci['641690093_Marks']+sci['641690094_Marks']+\n",
        "                        sci['641690095_Marks']+sci['641690096_Marks']+sci['641690097_Marks']+ sci['641690098_Marks']+sci['641690099_Marks']+\n",
        "                        sci['641690100_Marks']+sci['641690101_Marks']+sci['641690102_Marks']+sci['641690103_Marks']+ sci['641690104_Marks']+\n",
        "                        sci['641690105_Marks']+sci['641690106_Marks']+sci['641690107_Marks']+sci['641690108_Marks']+sci['641690109_Marks'] +\n",
        "                        sci['641690110_Marks']+sci['641690111_Marks'])+\\\n",
        "                        (sci['641690058_Marks']+sci['641690059_Marks']+sci['641690060_Marks']+sci['641690061_Marks']+sci['641690062_Marks']+\n",
        "                         sci['641690063_Marks']+sci['641690064_Marks']+sci['641690065_Marks']+sci['641690066_Marks']+sci['641690067_Marks']+\n",
        "                         sci['641690068_Marks']+sci['641690069_Marks']+sci['641690070_Marks']+sci['641690071_Marks']+sci['641690072_Marks']+\n",
        "                         sci['641690073_Marks']+sci['641690074_Marks']+sci['641690075_Marks']+sci['641690076_Marks']+sci['641690077_Marks']+\n",
        "                         sci['641690078_Marks']+sci['641690079_Marks']+sci['641690080_Marks']+sci['641690081_Marks']+sci['641690082_Marks']+\n",
        "                         sci['641690083_Marks']+ sci['641690084_Marks'])\n",
        "                                                      \n",
        "\n",
        "\n",
        "# sorting the marks obtained\n",
        "sci = sci.sort_values('Marks_Obatined')\n",
        "# removing the duplicated and keeping the last\n",
        "sci= sci.drop_duplicates('EnrollmentID', keep='last')"
      ],
      "metadata": {
        "id": "bJtflo08a4yu"
      },
      "execution_count": null,
      "outputs": []
    },
    {
      "cell_type": "markdown",
      "source": [
        "#### download the files\n"
      ],
      "metadata": {
        "id": "JF561GntISZ6"
      }
    },
    {
      "cell_type": "code",
      "source": [
        "sci.to_excel('grade_8th_science_marks_obtained.xlsx')"
      ],
      "metadata": {
        "id": "8UVADVHllG4x"
      },
      "execution_count": null,
      "outputs": []
    }
  ]
}