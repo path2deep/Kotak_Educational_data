{
  "cells": [
    {
      "cell_type": "markdown",
      "metadata": {
        "id": "view-in-github",
        "colab_type": "text"
      },
      "source": [
        "<a href=\"https://colab.research.google.com/github/path2deep/Kotak_Educational_data/blob/main/Copy_of_compact_usages_login.ipynb\" target=\"_parent\"><img src=\"https://colab.research.google.com/assets/colab-badge.svg\" alt=\"Open In Colab\"/></a>"
      ]
    },
    {
      "cell_type": "code",
      "execution_count": null,
      "metadata": {
        "id": "w-fw97MrlN8M"
      },
      "outputs": [],
      "source": [
        "import pandas as pd\n",
        "import numpy as np\n",
        "import io\n",
        "import seaborn as sns \n",
        "import matplotlib.pyplot as plt\n",
        "from google.colab import files"
      ]
    },
    {
      "cell_type": "markdown",
      "metadata": {
        "id": "OCLXjrZpAa-E"
      },
      "source": [
        "# do not touch"
      ]
    },
    {
      "cell_type": "code",
      "execution_count": null,
      "metadata": {
        "id": "_B68ULsingm7"
      },
      "outputs": [],
      "source": [
        "all_schools = list()"
      ]
    },
    {
      "cell_type": "code",
      "execution_count": null,
      "metadata": {
        "id": "OitVKzHSKf_M"
      },
      "outputs": [],
      "source": [
        "all_schools1 = list()"
      ]
    },
    {
      "cell_type": "markdown",
      "metadata": {
        "id": "yIvY023WAwLq"
      },
      "source": [
        "# Upload"
      ]
    },
    {
      "cell_type": "code",
      "execution_count": null,
      "metadata": {
        "colab": {
          "base_uri": "https://localhost:8080/",
          "height": 73,
          "resources": {
            "http://localhost:8080/nbextensions/google.colab/files.js": {
              "data": "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",
              "headers": [
                [
                  "content-type",
                  "application/javascript"
                ]
              ],
              "ok": true,
              "status": 200,
              "status_text": ""
            }
          }
        },
        "id": "dy6fuljElfZ-",
        "outputId": "2c3d08ce-eb24-4736-a732-e14f364618e1"
      },
      "outputs": [
        {
          "output_type": "display_data",
          "data": {
            "text/html": [
              "\n",
              "     <input type=\"file\" id=\"files-ef144be1-ad59-406a-bea9-5cb52db760e2\" name=\"files[]\" multiple disabled\n",
              "        style=\"border:none\" />\n",
              "     <output id=\"result-ef144be1-ad59-406a-bea9-5cb52db760e2\">\n",
              "      Upload widget is only available when the cell has been executed in the\n",
              "      current browser session. Please rerun this cell to enable.\n",
              "      </output>\n",
              "      <script src=\"/nbextensions/google.colab/files.js\"></script> "
            ],
            "text/plain": [
              "<IPython.core.display.HTML object>"
            ]
          },
          "metadata": {}
        },
        {
          "output_type": "stream",
          "name": "stdout",
          "text": [
            "Saving 1812.xlsx to 1812.xlsx\n"
          ]
        }
      ],
      "source": [
        "uploaded = files.upload()"
      ]
    },
    {
      "cell_type": "code",
      "execution_count": null,
      "metadata": {
        "id": "YTrS2eDglh68"
      },
      "outputs": [],
      "source": [
        "file = io.BytesIO(uploaded.get(\"1812.xlsx\"))\n",
        "df = pd.read_excel(file, 'Login History')\n",
        "\n",
        "dff = pd.read_excel(file, 'Video Usage')\n",
        "\n",
        "df1 = df.copy()\n",
        "df2 = df.copy()\n",
        "df3 = dff.copy()\n",
        "df4 = dff.copy()"
      ]
    },
    {
      "cell_type": "markdown",
      "metadata": {
        "id": "FagiuNMpm2Zz"
      },
      "source": [
        "#Method"
      ]
    },
    {
      "cell_type": "code",
      "execution_count": null,
      "metadata": {
        "id": "OkW4A_Ijm3hu"
      },
      "outputs": [],
      "source": [
        "df1 =  df.copy()\n",
        "def students_login(log, input_name):\n",
        "  global df1\n",
        "  df1['Date'] = df1['LoginDateTime'].str.split(' ').str[0]\n",
        "\n",
        "  lst = list()\n",
        "  for num in range (0, len(df1.index)):\n",
        "    lst.append('12')\n",
        "  lst1 = list()\n",
        "  for num in range (0, len(df1.index)):\n",
        "    lst1.append('2021')\n",
        "  \n",
        "  df1['Year'] = lst1\n",
        "  df1['Month'] = lst\n",
        "\n",
        "  df1['Dates'] = df1['Date']+'-'+df1['Month']+'-'+df1['Year']\n",
        "  df1[\"Dates\"] = pd.to_datetime(df1[\"Dates\"], format=\"%d-%m-%Y\", yearfirst=True)\n",
        "\n",
        "  #set index\n",
        "  df1 = df1.set_index('Dates')\n",
        "  #creating new columns\n",
        "  df1['Year'] = df1.index.year\n",
        "  df1['Month'] = df1.index.month\n",
        "  df1['Day'] = df1.index.day\n",
        "\n",
        "  #input the students data\n",
        "  #input_name = input('input_name')\n",
        "  df_students = df1[df1['Student/Teacher'] == input_name ]\n",
        "  df_students.head(2)\n",
        "\n",
        "  #removing the duplicates\n",
        "  df_students = df_students.drop_duplicates(subset=['StudentName', 'Day'], keep='last')\n",
        "\n",
        "  #Students login\n",
        "  st_login = df_students.resample('D').count()\n",
        "  st_login = st_login.reset_index()\n",
        "\n",
        "  st_login = st_login[['Dates', 'Student/Teacher']]\n",
        "  col1 = {'Student/Teacher':'Student_login'}\n",
        "  st_login = st_login.rename(columns=col1)\n",
        "\n",
        "  return st_login\n",
        "\n",
        "\n",
        "\n",
        "\n",
        "df2 =  df.copy()\n",
        "def teachers_login(log, input_name):\n",
        "  global df2\n",
        "  df2['Date'] = df2['LoginDateTime'].str.split(' ').str[0]\n",
        "\n",
        "  lst = list()\n",
        "  for num in range (0, len(df2.index)):\n",
        "    lst.append('12')\n",
        "  lst2 = list()\n",
        "  for num in range (0, len(df1.index)):\n",
        "    lst2.append('2021')\n",
        "  \n",
        "  df2['Year'] = lst2\n",
        "  df2['Month'] = lst\n",
        "\n",
        "  df2['Dates'] = df2['Date']+'-'+df2['Month']+'-'+df2['Year']\n",
        "  df2[\"Dates\"] = pd.to_datetime(df2[\"Dates\"], format=\"%d-%m-%Y\", yearfirst=True)\n",
        "\n",
        "  #set index\n",
        "  df2 = df2.set_index('Dates')\n",
        "  #creating new columns\n",
        "  df2['Year'] = df2.index.year\n",
        "  df2['Month'] = df2.index.month\n",
        "  df2['Day'] = df2.index.day\n",
        "\n",
        "  #input the teacher data\n",
        "  #input_name = input('input_name')\n",
        "  df_teacher = df2[df2['Student/Teacher'] == input_name ]\n",
        "  df_teacher.head(2)\n",
        "\n",
        "  #removing the duplicates\n",
        "  df_teacher = df_teacher.drop_duplicates(subset=['StudentName', 'Day'], keep='last')\n",
        "\n",
        "  tea_login = df_teacher.resample('D').count()\n",
        "  tea_login =tea_login.reset_index()\n",
        "\n",
        "  tea_login = tea_login[['Dates', 'Student/Teacher']]\n",
        "  col2 = {'Student/Teacher':'Teachers_login'}\n",
        "  tea_login = tea_login.rename(columns=col2)\n",
        "\n",
        "  return tea_login\n",
        "\n",
        "\n",
        "df3 = dff.copy()\n",
        "def students_usage(usages, input_name):\n",
        "  global df3\n",
        "  df3['Date'] = df3['LastAccessDateTime'].str.split(' ').str[0]\n",
        "  df3[\"Date\"] = pd.to_datetime(df3[\"Date\"], format=\"%d-%m-%Y\", yearfirst=True)\n",
        "\n",
        "  #set index\n",
        "  df3 = df3.set_index('Date')\n",
        "\n",
        "  #creating new columns\n",
        "  df3['Year'] = df3.index.year\n",
        "  df3['Month'] = df3.index.month\n",
        "  df3['Weekdays'] = df3.index.weekday\n",
        "  df3['Day'] = df3.index.day\n",
        "\n",
        "  #input the students data\n",
        "  #input_name = input('input_name')\n",
        "  df_students = df3[df3['Student/Teacher'] == input_name ]\n",
        "\n",
        "  data = df_students.reset_index()\n",
        "  data = data.groupby(['Date', 'School','StudentName'], as_index=True).agg({'TotalViewDuration': 'sum'})\n",
        "  data = data.reset_index()\n",
        "  data = data.groupby(['Date']).agg({'TotalViewDuration': 'median'})\n",
        "  data = data.reset_index()\n",
        "\n",
        "  st_usage = data.copy()\n",
        "\n",
        "  st_ugage = st_usage.set_index('Date')\n",
        "  col3 ={'TotalViewDuration':'Student_uasge'}\n",
        "  st_usage = st_usage.rename(columns= col3)\n",
        "\n",
        "  return st_usage\n",
        "\n",
        "\n",
        "df4 = dff.copy()\n",
        "def teachers_usage(usage, input_name):\n",
        "  global df4\n",
        "  df4['Date'] = df4['LastAccessDateTime'].str.split(' ').str[0]\n",
        "  df4[\"Date\"] = pd.to_datetime(df4[\"Date\"], format=\"%d-%m-%Y\", yearfirst=True)\n",
        "\n",
        "  #set index\n",
        "  df4 = df4.set_index('Date')\n",
        "\n",
        "  #creating new columns\n",
        "  df4['Year'] = df4.index.year\n",
        "  df4['Month'] = df4.index.month\n",
        "  df4['Weekdays'] = df4.index.weekday\n",
        "  df4['Day'] = df4.index.day\n",
        "\n",
        "  #input the teacher data\n",
        "  #input_name = input('input_name')\n",
        "  df_teachers = df4[df4['Student/Teacher'] == input_name ]\n",
        "\n",
        "  data_teach = df_teachers.reset_index()\n",
        "  data_teach = data_teach.groupby(['Date', 'School','StudentName'], as_index=True).agg({'TotalViewDuration': 'sum'})\n",
        "  data_teach = data_teach.reset_index()\n",
        "\n",
        "  teacher = data_teach.groupby(['Date']).agg({'TotalViewDuration': 'median'})\n",
        "  tea = teacher.reset_index()\n",
        "  \n",
        "  #frequency\n",
        "  tea_usage = tea.set_index('Date')\n",
        "  tea_usage_f = tea_usage.asfreq('D')\n",
        "  tea_usage_f['TotalViewDuration'] = tea_usage.asfreq('D', fill_value=0)\n",
        "  tea_usage_f = tea_usage_f.reset_index()\n",
        "  \n",
        "  col4 = {'TotalViewDuration':'Teachers_usage'}\n",
        "  tea_usage_f = tea_usage_f.rename(columns = col4)\n",
        "\n",
        "  return tea_usage_f\n"
      ]
    },
    {
      "cell_type": "markdown",
      "metadata": {
        "id": "CvZqkhQb22LM"
      },
      "source": [
        "#Students and Teachers"
      ]
    },
    {
      "cell_type": "code",
      "execution_count": null,
      "metadata": {
        "colab": {
          "base_uri": "https://localhost:8080/"
        },
        "id": "g5ixfU4ix6f5",
        "outputId": "efe68d64-d35b-4c17-b8ac-8a99de7a87aa"
      },
      "outputs": [
        {
          "name": "stdout",
          "output_type": "stream",
          "text": [
            "Enter 'Student' in the box\n",
            "input_nameStudent\n",
            "Enter 'Teacher' in the box\n",
            "input_nameTeacher\n",
            "Enter 'Student' in the box\n",
            "input_nameStudent\n",
            "Enter 'Teacher' in the box\n",
            "input_nameTeacher\n"
          ]
        }
      ],
      "source": [
        "print(\"Enter 'Student' in the box\")\n",
        "login1= students_login(df1, input_name = input('input_name'))\n",
        "print(\"Enter 'Teacher' in the box\")\n",
        "login2 = teachers_login(df2, input_name = input('input_name'))\n",
        "print(\"Enter 'Student' in the box\")\n",
        "usages1 = students_usage(df, input_name = input('input_name'))\n",
        "print(\"Enter 'Teacher' in the box\")\n",
        "usages2 = teachers_usage(df, input_name = input('input_name'))"
      ]
    },
    {
      "cell_type": "markdown",
      "metadata": {
        "id": "aEiC8cYquqRx"
      },
      "source": [
        "#Combine"
      ]
    },
    {
      "cell_type": "code",
      "execution_count": null,
      "metadata": {
        "id": "PDltwCCMupat"
      },
      "outputs": [],
      "source": [
        "login1 = login1.set_index('Dates')\n",
        "login2 = login2.set_index('Dates')\n",
        "\n",
        "usages1 = usages1.set_index('Date')\n",
        "usages2 = usages2.set_index('Date')\n",
        "\n",
        "def combine(input_school):\n",
        "  global login1, login2, usages1, usages2\n",
        "  #combine data\n",
        "  school = pd.concat([login1,usages1,login2, usages2 ], axis=1)\n",
        "\n",
        "\n",
        "\n",
        "  lst = list()\n",
        "  for num in range (0, len(school.index)):\n",
        "    lst.append('dec')\n",
        "\n",
        "  lst1 = list()\n",
        "  for num in range (0, len(school.index)):\n",
        "    lst1.append(input_school)\n",
        "\n",
        "\n",
        "  school['Month'] = lst\n",
        "  school['Schools'] = lst1\n",
        "  school = school.reset_index()\n",
        "\n",
        "  col4 = {'index':'Date'}\n",
        "  school = school.rename(columns=col4)\n",
        "\n",
        "  return school\n"
      ]
    },
    {
      "cell_type": "code",
      "execution_count": null,
      "metadata": {
        "id": "lYcnXhl55K5o",
        "colab": {
          "base_uri": "https://localhost:8080/"
        },
        "outputId": "49bf1445-4c3f-4053-cef6-e9d618c0c62c"
      },
      "outputs": [
        {
          "name": "stdout",
          "output_type": "stream",
          "text": [
            "School_NameDharamveer Shambhaji\n"
          ]
        }
      ],
      "source": [
        "school_data = combine(input_school=input('School_Name'))"
      ]
    },
    {
      "cell_type": "code",
      "execution_count": null,
      "metadata": {
        "colab": {
          "base_uri": "https://localhost:8080/",
          "height": 143
        },
        "id": "BDYTJ8H210S_",
        "outputId": "aaae9f75-88cd-487a-d054-2581a1d8fa5f"
      },
      "outputs": [
        {
          "output_type": "execute_result",
          "data": {
            "text/html": [
              "<div>\n",
              "<style scoped>\n",
              "    .dataframe tbody tr th:only-of-type {\n",
              "        vertical-align: middle;\n",
              "    }\n",
              "\n",
              "    .dataframe tbody tr th {\n",
              "        vertical-align: top;\n",
              "    }\n",
              "\n",
              "    .dataframe thead th {\n",
              "        text-align: right;\n",
              "    }\n",
              "</style>\n",
              "<table border=\"1\" class=\"dataframe\">\n",
              "  <thead>\n",
              "    <tr style=\"text-align: right;\">\n",
              "      <th></th>\n",
              "      <th>Date</th>\n",
              "      <th>Student_login</th>\n",
              "      <th>Student_uasge</th>\n",
              "      <th>Teachers_login</th>\n",
              "      <th>Teachers_usage</th>\n",
              "      <th>Month</th>\n",
              "      <th>Schools</th>\n",
              "    </tr>\n",
              "  </thead>\n",
              "  <tbody>\n",
              "    <tr>\n",
              "      <th>29</th>\n",
              "      <td>2021-12-28</td>\n",
              "      <td>0.0</td>\n",
              "      <td>NaN</td>\n",
              "      <td>NaN</td>\n",
              "      <td>NaN</td>\n",
              "      <td>dec</td>\n",
              "      <td>Dharamveer Shambhaji</td>\n",
              "    </tr>\n",
              "    <tr>\n",
              "      <th>30</th>\n",
              "      <td>2021-12-29</td>\n",
              "      <td>10.0</td>\n",
              "      <td>NaN</td>\n",
              "      <td>NaN</td>\n",
              "      <td>NaN</td>\n",
              "      <td>dec</td>\n",
              "      <td>Dharamveer Shambhaji</td>\n",
              "    </tr>\n",
              "    <tr>\n",
              "      <th>31</th>\n",
              "      <td>2021-12-30</td>\n",
              "      <td>8.0</td>\n",
              "      <td>NaN</td>\n",
              "      <td>NaN</td>\n",
              "      <td>NaN</td>\n",
              "      <td>dec</td>\n",
              "      <td>Dharamveer Shambhaji</td>\n",
              "    </tr>\n",
              "  </tbody>\n",
              "</table>\n",
              "</div>"
            ],
            "text/plain": [
              "         Date  Student_login  ...  Month               Schools\n",
              "29 2021-12-28            0.0  ...    dec  Dharamveer Shambhaji\n",
              "30 2021-12-29           10.0  ...    dec  Dharamveer Shambhaji\n",
              "31 2021-12-30            8.0  ...    dec  Dharamveer Shambhaji\n",
              "\n",
              "[3 rows x 7 columns]"
            ]
          },
          "metadata": {},
          "execution_count": 9
        }
      ],
      "source": [
        "school_data.tail(3)"
      ]
    },
    {
      "cell_type": "markdown",
      "metadata": {
        "id": "8yKyIf1hBVJK"
      },
      "source": [
        "#Medium"
      ]
    },
    {
      "cell_type": "code",
      "execution_count": null,
      "metadata": {
        "id": "Q3cf7d_a_FSM"
      },
      "outputs": [],
      "source": [
        "lst2 = list()\n",
        "for num in range (0, len(school_data.index)):\n",
        "  lst2.append('Semi Marathi')\n",
        "\n",
        "school_data['Medium'] = lst2"
      ]
    },
    {
      "cell_type": "code",
      "execution_count": null,
      "metadata": {
        "colab": {
          "base_uri": "https://localhost:8080/",
          "height": 1000
        },
        "id": "kXFYr7Xo9Aie",
        "outputId": "c5fc2004-6260-4890-8f3d-f40150214413"
      },
      "outputs": [
        {
          "output_type": "execute_result",
          "data": {
            "text/html": [
              "<div>\n",
              "<style scoped>\n",
              "    .dataframe tbody tr th:only-of-type {\n",
              "        vertical-align: middle;\n",
              "    }\n",
              "\n",
              "    .dataframe tbody tr th {\n",
              "        vertical-align: top;\n",
              "    }\n",
              "\n",
              "    .dataframe thead th {\n",
              "        text-align: right;\n",
              "    }\n",
              "</style>\n",
              "<table border=\"1\" class=\"dataframe\">\n",
              "  <thead>\n",
              "    <tr style=\"text-align: right;\">\n",
              "      <th></th>\n",
              "      <th>Date</th>\n",
              "      <th>Student_login</th>\n",
              "      <th>Student_uasge</th>\n",
              "      <th>Teachers_login</th>\n",
              "      <th>Teachers_usage</th>\n",
              "      <th>Month</th>\n",
              "      <th>Schools</th>\n",
              "      <th>Medium</th>\n",
              "    </tr>\n",
              "  </thead>\n",
              "  <tbody>\n",
              "    <tr>\n",
              "      <th>0</th>\n",
              "      <td>2021-11-29</td>\n",
              "      <td>NaN</td>\n",
              "      <td>12.615</td>\n",
              "      <td>NaN</td>\n",
              "      <td>NaN</td>\n",
              "      <td>dec</td>\n",
              "      <td>Dharamveer Shambhaji</td>\n",
              "      <td>Semi Marathi</td>\n",
              "    </tr>\n",
              "    <tr>\n",
              "      <th>1</th>\n",
              "      <td>2021-11-30</td>\n",
              "      <td>NaN</td>\n",
              "      <td>5.310</td>\n",
              "      <td>NaN</td>\n",
              "      <td>NaN</td>\n",
              "      <td>dec</td>\n",
              "      <td>Dharamveer Shambhaji</td>\n",
              "      <td>Semi Marathi</td>\n",
              "    </tr>\n",
              "    <tr>\n",
              "      <th>2</th>\n",
              "      <td>2021-12-01</td>\n",
              "      <td>8.0</td>\n",
              "      <td>11.255</td>\n",
              "      <td>1.0</td>\n",
              "      <td>13.26</td>\n",
              "      <td>dec</td>\n",
              "      <td>Dharamveer Shambhaji</td>\n",
              "      <td>Semi Marathi</td>\n",
              "    </tr>\n",
              "    <tr>\n",
              "      <th>3</th>\n",
              "      <td>2021-12-02</td>\n",
              "      <td>7.0</td>\n",
              "      <td>54.565</td>\n",
              "      <td>1.0</td>\n",
              "      <td>0.56</td>\n",
              "      <td>dec</td>\n",
              "      <td>Dharamveer Shambhaji</td>\n",
              "      <td>Semi Marathi</td>\n",
              "    </tr>\n",
              "    <tr>\n",
              "      <th>4</th>\n",
              "      <td>2021-12-03</td>\n",
              "      <td>5.0</td>\n",
              "      <td>24.380</td>\n",
              "      <td>NaN</td>\n",
              "      <td>NaN</td>\n",
              "      <td>dec</td>\n",
              "      <td>Dharamveer Shambhaji</td>\n",
              "      <td>Semi Marathi</td>\n",
              "    </tr>\n",
              "    <tr>\n",
              "      <th>5</th>\n",
              "      <td>2021-12-04</td>\n",
              "      <td>6.0</td>\n",
              "      <td>11.545</td>\n",
              "      <td>NaN</td>\n",
              "      <td>NaN</td>\n",
              "      <td>dec</td>\n",
              "      <td>Dharamveer Shambhaji</td>\n",
              "      <td>Semi Marathi</td>\n",
              "    </tr>\n",
              "    <tr>\n",
              "      <th>6</th>\n",
              "      <td>2021-12-05</td>\n",
              "      <td>6.0</td>\n",
              "      <td>42.980</td>\n",
              "      <td>NaN</td>\n",
              "      <td>NaN</td>\n",
              "      <td>dec</td>\n",
              "      <td>Dharamveer Shambhaji</td>\n",
              "      <td>Semi Marathi</td>\n",
              "    </tr>\n",
              "    <tr>\n",
              "      <th>7</th>\n",
              "      <td>2021-12-06</td>\n",
              "      <td>0.0</td>\n",
              "      <td>NaN</td>\n",
              "      <td>NaN</td>\n",
              "      <td>NaN</td>\n",
              "      <td>dec</td>\n",
              "      <td>Dharamveer Shambhaji</td>\n",
              "      <td>Semi Marathi</td>\n",
              "    </tr>\n",
              "    <tr>\n",
              "      <th>8</th>\n",
              "      <td>2021-12-07</td>\n",
              "      <td>0.0</td>\n",
              "      <td>NaN</td>\n",
              "      <td>NaN</td>\n",
              "      <td>NaN</td>\n",
              "      <td>dec</td>\n",
              "      <td>Dharamveer Shambhaji</td>\n",
              "      <td>Semi Marathi</td>\n",
              "    </tr>\n",
              "    <tr>\n",
              "      <th>9</th>\n",
              "      <td>2021-12-08</td>\n",
              "      <td>0.0</td>\n",
              "      <td>NaN</td>\n",
              "      <td>NaN</td>\n",
              "      <td>NaN</td>\n",
              "      <td>dec</td>\n",
              "      <td>Dharamveer Shambhaji</td>\n",
              "      <td>Semi Marathi</td>\n",
              "    </tr>\n",
              "    <tr>\n",
              "      <th>10</th>\n",
              "      <td>2021-12-09</td>\n",
              "      <td>0.0</td>\n",
              "      <td>NaN</td>\n",
              "      <td>NaN</td>\n",
              "      <td>NaN</td>\n",
              "      <td>dec</td>\n",
              "      <td>Dharamveer Shambhaji</td>\n",
              "      <td>Semi Marathi</td>\n",
              "    </tr>\n",
              "    <tr>\n",
              "      <th>11</th>\n",
              "      <td>2021-12-10</td>\n",
              "      <td>0.0</td>\n",
              "      <td>NaN</td>\n",
              "      <td>NaN</td>\n",
              "      <td>NaN</td>\n",
              "      <td>dec</td>\n",
              "      <td>Dharamveer Shambhaji</td>\n",
              "      <td>Semi Marathi</td>\n",
              "    </tr>\n",
              "    <tr>\n",
              "      <th>12</th>\n",
              "      <td>2021-12-11</td>\n",
              "      <td>0.0</td>\n",
              "      <td>NaN</td>\n",
              "      <td>NaN</td>\n",
              "      <td>NaN</td>\n",
              "      <td>dec</td>\n",
              "      <td>Dharamveer Shambhaji</td>\n",
              "      <td>Semi Marathi</td>\n",
              "    </tr>\n",
              "    <tr>\n",
              "      <th>13</th>\n",
              "      <td>2021-12-12</td>\n",
              "      <td>0.0</td>\n",
              "      <td>NaN</td>\n",
              "      <td>NaN</td>\n",
              "      <td>NaN</td>\n",
              "      <td>dec</td>\n",
              "      <td>Dharamveer Shambhaji</td>\n",
              "      <td>Semi Marathi</td>\n",
              "    </tr>\n",
              "    <tr>\n",
              "      <th>14</th>\n",
              "      <td>2021-12-13</td>\n",
              "      <td>0.0</td>\n",
              "      <td>NaN</td>\n",
              "      <td>NaN</td>\n",
              "      <td>NaN</td>\n",
              "      <td>dec</td>\n",
              "      <td>Dharamveer Shambhaji</td>\n",
              "      <td>Semi Marathi</td>\n",
              "    </tr>\n",
              "    <tr>\n",
              "      <th>15</th>\n",
              "      <td>2021-12-14</td>\n",
              "      <td>0.0</td>\n",
              "      <td>NaN</td>\n",
              "      <td>NaN</td>\n",
              "      <td>NaN</td>\n",
              "      <td>dec</td>\n",
              "      <td>Dharamveer Shambhaji</td>\n",
              "      <td>Semi Marathi</td>\n",
              "    </tr>\n",
              "    <tr>\n",
              "      <th>16</th>\n",
              "      <td>2021-12-15</td>\n",
              "      <td>0.0</td>\n",
              "      <td>NaN</td>\n",
              "      <td>NaN</td>\n",
              "      <td>NaN</td>\n",
              "      <td>dec</td>\n",
              "      <td>Dharamveer Shambhaji</td>\n",
              "      <td>Semi Marathi</td>\n",
              "    </tr>\n",
              "    <tr>\n",
              "      <th>17</th>\n",
              "      <td>2021-12-16</td>\n",
              "      <td>0.0</td>\n",
              "      <td>NaN</td>\n",
              "      <td>NaN</td>\n",
              "      <td>NaN</td>\n",
              "      <td>dec</td>\n",
              "      <td>Dharamveer Shambhaji</td>\n",
              "      <td>Semi Marathi</td>\n",
              "    </tr>\n",
              "    <tr>\n",
              "      <th>18</th>\n",
              "      <td>2021-12-17</td>\n",
              "      <td>0.0</td>\n",
              "      <td>NaN</td>\n",
              "      <td>NaN</td>\n",
              "      <td>NaN</td>\n",
              "      <td>dec</td>\n",
              "      <td>Dharamveer Shambhaji</td>\n",
              "      <td>Semi Marathi</td>\n",
              "    </tr>\n",
              "    <tr>\n",
              "      <th>19</th>\n",
              "      <td>2021-12-18</td>\n",
              "      <td>0.0</td>\n",
              "      <td>NaN</td>\n",
              "      <td>NaN</td>\n",
              "      <td>NaN</td>\n",
              "      <td>dec</td>\n",
              "      <td>Dharamveer Shambhaji</td>\n",
              "      <td>Semi Marathi</td>\n",
              "    </tr>\n",
              "    <tr>\n",
              "      <th>20</th>\n",
              "      <td>2021-12-19</td>\n",
              "      <td>0.0</td>\n",
              "      <td>NaN</td>\n",
              "      <td>NaN</td>\n",
              "      <td>NaN</td>\n",
              "      <td>dec</td>\n",
              "      <td>Dharamveer Shambhaji</td>\n",
              "      <td>Semi Marathi</td>\n",
              "    </tr>\n",
              "    <tr>\n",
              "      <th>21</th>\n",
              "      <td>2021-12-20</td>\n",
              "      <td>0.0</td>\n",
              "      <td>NaN</td>\n",
              "      <td>NaN</td>\n",
              "      <td>NaN</td>\n",
              "      <td>dec</td>\n",
              "      <td>Dharamveer Shambhaji</td>\n",
              "      <td>Semi Marathi</td>\n",
              "    </tr>\n",
              "    <tr>\n",
              "      <th>22</th>\n",
              "      <td>2021-12-21</td>\n",
              "      <td>0.0</td>\n",
              "      <td>NaN</td>\n",
              "      <td>NaN</td>\n",
              "      <td>NaN</td>\n",
              "      <td>dec</td>\n",
              "      <td>Dharamveer Shambhaji</td>\n",
              "      <td>Semi Marathi</td>\n",
              "    </tr>\n",
              "    <tr>\n",
              "      <th>23</th>\n",
              "      <td>2021-12-22</td>\n",
              "      <td>0.0</td>\n",
              "      <td>NaN</td>\n",
              "      <td>NaN</td>\n",
              "      <td>NaN</td>\n",
              "      <td>dec</td>\n",
              "      <td>Dharamveer Shambhaji</td>\n",
              "      <td>Semi Marathi</td>\n",
              "    </tr>\n",
              "    <tr>\n",
              "      <th>24</th>\n",
              "      <td>2021-12-23</td>\n",
              "      <td>0.0</td>\n",
              "      <td>NaN</td>\n",
              "      <td>NaN</td>\n",
              "      <td>NaN</td>\n",
              "      <td>dec</td>\n",
              "      <td>Dharamveer Shambhaji</td>\n",
              "      <td>Semi Marathi</td>\n",
              "    </tr>\n",
              "    <tr>\n",
              "      <th>25</th>\n",
              "      <td>2021-12-24</td>\n",
              "      <td>0.0</td>\n",
              "      <td>NaN</td>\n",
              "      <td>NaN</td>\n",
              "      <td>NaN</td>\n",
              "      <td>dec</td>\n",
              "      <td>Dharamveer Shambhaji</td>\n",
              "      <td>Semi Marathi</td>\n",
              "    </tr>\n",
              "    <tr>\n",
              "      <th>26</th>\n",
              "      <td>2021-12-25</td>\n",
              "      <td>0.0</td>\n",
              "      <td>NaN</td>\n",
              "      <td>NaN</td>\n",
              "      <td>NaN</td>\n",
              "      <td>dec</td>\n",
              "      <td>Dharamveer Shambhaji</td>\n",
              "      <td>Semi Marathi</td>\n",
              "    </tr>\n",
              "    <tr>\n",
              "      <th>27</th>\n",
              "      <td>2021-12-26</td>\n",
              "      <td>0.0</td>\n",
              "      <td>NaN</td>\n",
              "      <td>NaN</td>\n",
              "      <td>NaN</td>\n",
              "      <td>dec</td>\n",
              "      <td>Dharamveer Shambhaji</td>\n",
              "      <td>Semi Marathi</td>\n",
              "    </tr>\n",
              "    <tr>\n",
              "      <th>28</th>\n",
              "      <td>2021-12-27</td>\n",
              "      <td>0.0</td>\n",
              "      <td>NaN</td>\n",
              "      <td>NaN</td>\n",
              "      <td>NaN</td>\n",
              "      <td>dec</td>\n",
              "      <td>Dharamveer Shambhaji</td>\n",
              "      <td>Semi Marathi</td>\n",
              "    </tr>\n",
              "    <tr>\n",
              "      <th>29</th>\n",
              "      <td>2021-12-28</td>\n",
              "      <td>0.0</td>\n",
              "      <td>NaN</td>\n",
              "      <td>NaN</td>\n",
              "      <td>NaN</td>\n",
              "      <td>dec</td>\n",
              "      <td>Dharamveer Shambhaji</td>\n",
              "      <td>Semi Marathi</td>\n",
              "    </tr>\n",
              "    <tr>\n",
              "      <th>30</th>\n",
              "      <td>2021-12-29</td>\n",
              "      <td>10.0</td>\n",
              "      <td>NaN</td>\n",
              "      <td>NaN</td>\n",
              "      <td>NaN</td>\n",
              "      <td>dec</td>\n",
              "      <td>Dharamveer Shambhaji</td>\n",
              "      <td>Semi Marathi</td>\n",
              "    </tr>\n",
              "    <tr>\n",
              "      <th>31</th>\n",
              "      <td>2021-12-30</td>\n",
              "      <td>8.0</td>\n",
              "      <td>NaN</td>\n",
              "      <td>NaN</td>\n",
              "      <td>NaN</td>\n",
              "      <td>dec</td>\n",
              "      <td>Dharamveer Shambhaji</td>\n",
              "      <td>Semi Marathi</td>\n",
              "    </tr>\n",
              "  </tbody>\n",
              "</table>\n",
              "</div>"
            ],
            "text/plain": [
              "         Date  Student_login  ...               Schools        Medium\n",
              "0  2021-11-29            NaN  ...  Dharamveer Shambhaji  Semi Marathi\n",
              "1  2021-11-30            NaN  ...  Dharamveer Shambhaji  Semi Marathi\n",
              "2  2021-12-01            8.0  ...  Dharamveer Shambhaji  Semi Marathi\n",
              "3  2021-12-02            7.0  ...  Dharamveer Shambhaji  Semi Marathi\n",
              "4  2021-12-03            5.0  ...  Dharamveer Shambhaji  Semi Marathi\n",
              "5  2021-12-04            6.0  ...  Dharamveer Shambhaji  Semi Marathi\n",
              "6  2021-12-05            6.0  ...  Dharamveer Shambhaji  Semi Marathi\n",
              "7  2021-12-06            0.0  ...  Dharamveer Shambhaji  Semi Marathi\n",
              "8  2021-12-07            0.0  ...  Dharamveer Shambhaji  Semi Marathi\n",
              "9  2021-12-08            0.0  ...  Dharamveer Shambhaji  Semi Marathi\n",
              "10 2021-12-09            0.0  ...  Dharamveer Shambhaji  Semi Marathi\n",
              "11 2021-12-10            0.0  ...  Dharamveer Shambhaji  Semi Marathi\n",
              "12 2021-12-11            0.0  ...  Dharamveer Shambhaji  Semi Marathi\n",
              "13 2021-12-12            0.0  ...  Dharamveer Shambhaji  Semi Marathi\n",
              "14 2021-12-13            0.0  ...  Dharamveer Shambhaji  Semi Marathi\n",
              "15 2021-12-14            0.0  ...  Dharamveer Shambhaji  Semi Marathi\n",
              "16 2021-12-15            0.0  ...  Dharamveer Shambhaji  Semi Marathi\n",
              "17 2021-12-16            0.0  ...  Dharamveer Shambhaji  Semi Marathi\n",
              "18 2021-12-17            0.0  ...  Dharamveer Shambhaji  Semi Marathi\n",
              "19 2021-12-18            0.0  ...  Dharamveer Shambhaji  Semi Marathi\n",
              "20 2021-12-19            0.0  ...  Dharamveer Shambhaji  Semi Marathi\n",
              "21 2021-12-20            0.0  ...  Dharamveer Shambhaji  Semi Marathi\n",
              "22 2021-12-21            0.0  ...  Dharamveer Shambhaji  Semi Marathi\n",
              "23 2021-12-22            0.0  ...  Dharamveer Shambhaji  Semi Marathi\n",
              "24 2021-12-23            0.0  ...  Dharamveer Shambhaji  Semi Marathi\n",
              "25 2021-12-24            0.0  ...  Dharamveer Shambhaji  Semi Marathi\n",
              "26 2021-12-25            0.0  ...  Dharamveer Shambhaji  Semi Marathi\n",
              "27 2021-12-26            0.0  ...  Dharamveer Shambhaji  Semi Marathi\n",
              "28 2021-12-27            0.0  ...  Dharamveer Shambhaji  Semi Marathi\n",
              "29 2021-12-28            0.0  ...  Dharamveer Shambhaji  Semi Marathi\n",
              "30 2021-12-29           10.0  ...  Dharamveer Shambhaji  Semi Marathi\n",
              "31 2021-12-30            8.0  ...  Dharamveer Shambhaji  Semi Marathi\n",
              "\n",
              "[32 rows x 8 columns]"
            ]
          },
          "metadata": {},
          "execution_count": 12
        }
      ],
      "source": [
        "school_data"
      ]
    },
    {
      "cell_type": "markdown",
      "metadata": {
        "id": "9bUnhvZ8mMvV"
      },
      "source": [
        "### Schools"
      ]
    },
    {
      "cell_type": "code",
      "execution_count": null,
      "metadata": {
        "id": "Gftd11uZlPKV"
      },
      "outputs": [],
      "source": [
        "d1 = school_data.copy()"
      ]
    },
    {
      "cell_type": "markdown",
      "metadata": {
        "id": "K46Rb6mrlzom"
      },
      "source": [
        "##combine the data"
      ]
    },
    {
      "cell_type": "code",
      "execution_count": null,
      "metadata": {
        "id": "-qkDKmK8jdRF"
      },
      "outputs": [],
      "source": [
        "all_schools.append(d1)"
      ]
    },
    {
      "cell_type": "markdown",
      "metadata": {
        "id": "abYlcqnPj2da"
      },
      "source": [
        "##total"
      ]
    },
    {
      "cell_type": "code",
      "execution_count": null,
      "metadata": {
        "colab": {
          "base_uri": "https://localhost:8080/",
          "height": 112
        },
        "id": "n2fEomzajkH6",
        "outputId": "1ed097ef-3a63-4e85-9ce9-3585fcd3b1cf"
      },
      "outputs": [
        {
          "output_type": "execute_result",
          "data": {
            "text/html": [
              "<div>\n",
              "<style scoped>\n",
              "    .dataframe tbody tr th:only-of-type {\n",
              "        vertical-align: middle;\n",
              "    }\n",
              "\n",
              "    .dataframe tbody tr th {\n",
              "        vertical-align: top;\n",
              "    }\n",
              "\n",
              "    .dataframe thead th {\n",
              "        text-align: right;\n",
              "    }\n",
              "</style>\n",
              "<table border=\"1\" class=\"dataframe\">\n",
              "  <thead>\n",
              "    <tr style=\"text-align: right;\">\n",
              "      <th></th>\n",
              "      <th>Date</th>\n",
              "      <th>Student_login</th>\n",
              "      <th>Student_uasge</th>\n",
              "      <th>Teachers_login</th>\n",
              "      <th>Teachers_usage</th>\n",
              "      <th>Month</th>\n",
              "      <th>Schools</th>\n",
              "      <th>Medium</th>\n",
              "    </tr>\n",
              "  </thead>\n",
              "  <tbody>\n",
              "    <tr>\n",
              "      <th>0</th>\n",
              "      <td>2021-12-03</td>\n",
              "      <td>18</td>\n",
              "      <td>10.22</td>\n",
              "      <td>1.0</td>\n",
              "      <td>2.80</td>\n",
              "      <td>dec</td>\n",
              "      <td>Bharat Nagar</td>\n",
              "      <td>Semi Urdu</td>\n",
              "    </tr>\n",
              "    <tr>\n",
              "      <th>1</th>\n",
              "      <td>2021-12-04</td>\n",
              "      <td>14</td>\n",
              "      <td>25.00</td>\n",
              "      <td>0.0</td>\n",
              "      <td>0.12</td>\n",
              "      <td>dec</td>\n",
              "      <td>Bharat Nagar</td>\n",
              "      <td>Semi Urdu</td>\n",
              "    </tr>\n",
              "  </tbody>\n",
              "</table>\n",
              "</div>"
            ],
            "text/plain": [
              "        Date  Student_login  Student_uasge  ...  Month       Schools     Medium\n",
              "0 2021-12-03             18          10.22  ...    dec  Bharat Nagar  Semi Urdu\n",
              "1 2021-12-04             14          25.00  ...    dec  Bharat Nagar  Semi Urdu\n",
              "\n",
              "[2 rows x 8 columns]"
            ]
          },
          "metadata": {},
          "execution_count": 278
        }
      ],
      "source": [
        "total = pd.concat(all_schools)\n",
        "total.head(2)"
      ]
    },
    {
      "cell_type": "code",
      "execution_count": null,
      "metadata": {
        "colab": {
          "base_uri": "https://localhost:8080/"
        },
        "id": "uPej6Xw__O6q",
        "outputId": "b554faa2-d159-4d30-acc0-0ae4bcca1d59"
      },
      "outputs": [
        {
          "output_type": "execute_result",
          "data": {
            "text/plain": [
              "(206, 8)"
            ]
          },
          "metadata": {},
          "execution_count": 279
        }
      ],
      "source": [
        "total.shape"
      ]
    },
    {
      "cell_type": "markdown",
      "source": [
        "##download"
      ],
      "metadata": {
        "id": "ZNEa0I3FmotT"
      }
    },
    {
      "cell_type": "code",
      "execution_count": null,
      "metadata": {
        "id": "zkqGnLc7KCAh"
      },
      "outputs": [],
      "source": [
        "total.to_excel('dec_slot2_2.xlsx')"
      ]
    },
    {
      "cell_type": "code",
      "execution_count": null,
      "metadata": {
        "id": "fbtYEy_L_a5f"
      },
      "outputs": [],
      "source": [
        "#d1= school_data.copy()\n",
        "#d2= school_data.copy()\n",
        "#d3= school_data.copy()\n",
        "#d4= school.copy()\n",
        "#d5= school.copy()\n",
        "#d6= school.copy()\n",
        "#d7= school.copy()\n",
        "#d8= school.copy()\n",
        "#d9= school.copy()\n",
        "#d10= school.copy()\n",
        "#d11= school.copy()\n",
        "#d12= school.copy()\n",
        "#d13= school.copy()\n",
        "#d14= school.copy()\n",
        "#d15= school.copy()\n",
        "#d16= school.copy()\n",
        "#d17= school.copy()\n",
        "#d18= school.copy()\n",
        "#d19= school.copy()\n",
        "#d20= school.copy()\n",
        "#d21= school.copy()\n",
        "#d22= school.copy()\n",
        "#d23= school.copy()\n",
        "#d24= school.copy()\n",
        "#d25= school.copy()"
      ]
    },
    {
      "cell_type": "code",
      "execution_count": null,
      "metadata": {
        "colab": {
          "base_uri": "https://localhost:8080/",
          "height": 200
        },
        "id": "Pp5y-s4r7CQd",
        "outputId": "a2baee78-eca4-439a-add8-1aeb6d690855"
      },
      "outputs": [
        {
          "output_type": "error",
          "ename": "NameError",
          "evalue": "ignored",
          "traceback": [
            "\u001b[0;31m---------------------------------------------------------------------------\u001b[0m",
            "\u001b[0;31mNameError\u001b[0m                                 Traceback (most recent call last)",
            "\u001b[0;32m<ipython-input-398-68c265587d64>\u001b[0m in \u001b[0;36m<module>\u001b[0;34m()\u001b[0m\n\u001b[0;32m----> 1\u001b[0;31m total  = pd.concat[d1, d2, d3, d4, d5, d6. d7, d8, d9, d10,\n\u001b[0m\u001b[1;32m      2\u001b[0m                   \u001b[0md11\u001b[0m\u001b[0;34m,\u001b[0m \u001b[0md12\u001b[0m\u001b[0;34m,\u001b[0m \u001b[0md13\u001b[0m\u001b[0;34m,\u001b[0m \u001b[0md14\u001b[0m\u001b[0;34m,\u001b[0m \u001b[0md15\u001b[0m\u001b[0;34m,\u001b[0m \u001b[0md16\u001b[0m\u001b[0;34m,\u001b[0m \u001b[0md17\u001b[0m\u001b[0;34m,\u001b[0m \u001b[0md18\u001b[0m\u001b[0;34m,\u001b[0m \u001b[0md19\u001b[0m\u001b[0;34m,\u001b[0m \u001b[0md20\u001b[0m\u001b[0;34m,\u001b[0m\u001b[0;34m\u001b[0m\u001b[0;34m\u001b[0m\u001b[0m\n\u001b[1;32m      3\u001b[0m                   d21, d22, d23, d24, d25]\n",
            "\u001b[0;31mNameError\u001b[0m: name 'd2' is not defined"
          ]
        }
      ],
      "source": [
        "total  = pd.concat[d1, d2, d3, d4, d5, d6. d7, d8, d9, d10,\n",
        "                  d11, d12, d13, d14, d15, d16, d17, d18, d19, d20,\n",
        "                  d21, d22, d23, d24, d25]"
      ]
    },
    {
      "cell_type": "code",
      "execution_count": null,
      "metadata": {
        "id": "22HFniyfNOaT"
      },
      "outputs": [],
      "source": [
        "total.head()"
      ]
    },
    {
      "cell_type": "markdown",
      "metadata": {
        "id": "fyHf7KT77Xhs"
      },
      "source": [
        "#Plotting"
      ]
    },
    {
      "cell_type": "markdown",
      "metadata": {
        "id": "jzF-ZUTU8Zfg"
      },
      "source": [
        "## slot-1"
      ]
    },
    {
      "cell_type": "code",
      "execution_count": null,
      "metadata": {
        "id": "FRxzDZVLNOcB"
      },
      "outputs": [],
      "source": [
        "from google.colab import files\n",
        "uploaded = files.upload()"
      ]
    },
    {
      "cell_type": "code",
      "execution_count": null,
      "metadata": {
        "id": "KSaebXpsWcBr"
      },
      "outputs": [],
      "source": [
        "from google.colab import files\n",
        "uploaded = files.upload()"
      ]
    },
    {
      "cell_type": "code",
      "execution_count": null,
      "metadata": {
        "id": "g8UXhnfGWcOa"
      },
      "outputs": [],
      "source": [
        "from google.colab import files\n",
        "uploaded = files.upload()"
      ]
    },
    {
      "cell_type": "code",
      "execution_count": null,
      "metadata": {
        "id": "3-RIsWrUCzq5"
      },
      "outputs": [],
      "source": [
        "from google.colab import files\n",
        "uploaded = files.upload()"
      ]
    },
    {
      "cell_type": "code",
      "execution_count": null,
      "metadata": {
        "id": "RWrKoB1sTVfa"
      },
      "outputs": [],
      "source": [
        "df1 = pd.read_csv(io.StringIO(uploaded['login_usages_total - slot-1_aug_sep.csv'].decode('utf-8')))"
      ]
    },
    {
      "cell_type": "code",
      "execution_count": null,
      "metadata": {
        "id": "UI5IwtNOWr41"
      },
      "outputs": [],
      "source": [
        "df2 = pd.read_csv(io.StringIO(uploaded['login_usages_total - slot-1_oct.csv'].decode('utf-8')))"
      ]
    },
    {
      "cell_type": "code",
      "execution_count": null,
      "metadata": {
        "id": "styopW7iTjiO"
      },
      "outputs": [],
      "source": [
        "df3 = pd.read_csv(io.StringIO(uploaded['login_usages_total - slot-1_nov.csv'].decode('utf-8')))"
      ]
    },
    {
      "cell_type": "code",
      "execution_count": null,
      "metadata": {
        "id": "-ql8t_qACyfE"
      },
      "outputs": [],
      "source": [
        "df4 = pd.read_csv(io.StringIO(uploaded['dec_slot_1.csv'].decode('utf-8')))"
      ]
    },
    {
      "cell_type": "code",
      "execution_count": null,
      "metadata": {
        "id": "P5LmzaxBTtu5"
      },
      "outputs": [],
      "source": [
        "df = pd.concat([df1, df2, df3, df4], ignore_index=True)"
      ]
    },
    {
      "cell_type": "code",
      "execution_count": null,
      "metadata": {
        "id": "6KmQt27uYrUb"
      },
      "outputs": [],
      "source": [
        "df.to_excel('complete_slot1.xlsx')"
      ]
    },
    {
      "cell_type": "code",
      "execution_count": null,
      "metadata": {
        "id": "uUpI5EUk8x1F"
      },
      "outputs": [],
      "source": [
        "# Use seaborn style defaults and set the default figure size\n",
        "sns.set(rc={'figure.figsize':(12, 9)})"
      ]
    },
    {
      "cell_type": "code",
      "execution_count": null,
      "metadata": {
        "id": "GsXFfsKqNOfH"
      },
      "outputs": [],
      "source": [
        "#df = pd.read_csv(io.StringIO(uploaded['slot_1.csv'].decode('utf-8')))\n",
        "# converting into datetime\n",
        "df['Date'] = pd.to_datetime(df[\"Date\"])\n",
        "#set index\n",
        "df = df.set_index('Date')\n"
      ]
    },
    {
      "cell_type": "markdown",
      "metadata": {
        "id": "QaIx_vda-JOx"
      },
      "source": [
        "# Daily Usage"
      ]
    },
    {
      "cell_type": "code",
      "execution_count": null,
      "metadata": {
        "id": "8IDpLTriNOrO"
      },
      "outputs": [],
      "source": [
        "# Teachers usages\n",
        "df_daily1 = df['Teachers_usage'].resample('D').mean()\n",
        "df_daily1 = df_daily1.reset_index()\n",
        "df_daily1 = df_daily1.set_index('Date')\n",
        "# student usages\n",
        "df_daily2 = df['Student_uasge'].resample('D').mean()\n",
        "df_daily2 = df_daily2.reset_index()\n",
        "df_daily2 = df_daily2.set_index('Date')"
      ]
    },
    {
      "cell_type": "markdown",
      "metadata": {
        "id": "EdGdQYOV-NCF"
      },
      "source": [
        "# Weekly Usages"
      ]
    },
    {
      "cell_type": "code",
      "execution_count": null,
      "metadata": {
        "id": "jb6tOym8-P6E"
      },
      "outputs": [],
      "source": [
        "# Teachers weekly usages\n",
        "df_week1 = df['Teachers_usage'].resample('W').mean()\n",
        "df_week1 = df_week1.reset_index()\n",
        "df_week1 = df_week1.set_index('Date')\n",
        "# student weekly usages\n",
        "df_week2 = df['Student_uasge'].resample('W').mean()\n",
        "df_week2 = df_week2.reset_index()\n",
        "df_week2 = df_week2.set_index('Date')"
      ]
    },
    {
      "cell_type": "markdown",
      "metadata": {
        "id": "KUQAxiL_83IV"
      },
      "source": [
        "## slot-2"
      ]
    },
    {
      "cell_type": "code",
      "execution_count": null,
      "metadata": {
        "id": "sQjyWyPvLbWN"
      },
      "outputs": [],
      "source": [
        "from google.colab import files\n",
        "uploaded = files.upload()"
      ]
    },
    {
      "cell_type": "code",
      "execution_count": null,
      "metadata": {
        "id": "P8sqmu2HUAQb"
      },
      "outputs": [],
      "source": [
        "from google.colab import files\n",
        "uploaded = files.upload()"
      ]
    },
    {
      "cell_type": "code",
      "execution_count": null,
      "metadata": {
        "id": "G1FW3z-1W_Oz"
      },
      "outputs": [],
      "source": [
        "from google.colab import files\n",
        "uploaded = files.upload()"
      ]
    },
    {
      "cell_type": "code",
      "execution_count": null,
      "metadata": {
        "id": "oCGgWF9TXQt2"
      },
      "outputs": [],
      "source": [
        "from google.colab import files\n",
        "uploaded = files.upload()"
      ]
    },
    {
      "cell_type": "code",
      "execution_count": null,
      "metadata": {
        "id": "nNyG-Bw8IHUI"
      },
      "outputs": [],
      "source": [
        "from google.colab import files\n",
        "uploaded = files.upload()"
      ]
    },
    {
      "cell_type": "code",
      "execution_count": null,
      "metadata": {
        "id": "Nki90RPCUANl"
      },
      "outputs": [],
      "source": [
        "dff1 = pd.read_csv(io.StringIO(uploaded['oct_slot_2_1.csv'].decode('utf-8')))"
      ]
    },
    {
      "cell_type": "code",
      "execution_count": null,
      "metadata": {
        "id": "NoJwVqTyUA96"
      },
      "outputs": [],
      "source": [
        "dff2 = pd.read_csv(io.StringIO(uploaded['oct_slot_2_2.csv'].decode('utf-8')))"
      ]
    },
    {
      "cell_type": "code",
      "execution_count": null,
      "metadata": {
        "id": "3BAeQOxvXKv2"
      },
      "outputs": [],
      "source": [
        "dff3 = pd.read_csv(io.StringIO(uploaded['nov_slot_2_1.csv'].decode('utf-8')))"
      ]
    },
    {
      "cell_type": "code",
      "execution_count": null,
      "metadata": {
        "id": "1K55EjYSXK11"
      },
      "outputs": [],
      "source": [
        "dff4 = pd.read_csv(io.StringIO(uploaded['nov_slot_2_2.csv'].decode('utf-8')))"
      ]
    },
    {
      "cell_type": "code",
      "execution_count": null,
      "metadata": {
        "id": "G6dbHjG0ID-L"
      },
      "outputs": [],
      "source": [
        "dff5 = pd.read_csv(io.StringIO(uploaded['dec_slot_2.csv'].decode('utf-8')))"
      ]
    },
    {
      "cell_type": "code",
      "execution_count": null,
      "metadata": {
        "id": "CEQHoV6iUbDa"
      },
      "outputs": [],
      "source": [
        "dff = pd.concat([dff1, dff2, dff3, dff4, dff5], ignore_index=True)"
      ]
    },
    {
      "cell_type": "code",
      "execution_count": null,
      "metadata": {
        "id": "KPPkqpOZ85eR"
      },
      "outputs": [],
      "source": [
        "#dff = pd.read_csv(io.StringIO(uploaded['slot_2.csv'].decode('utf-8')))\n",
        "# converting to datetime object\n",
        "dff['Date'] = pd.to_datetime(dff[\"Date\"])\n",
        "#set index\n",
        "dff = dff.set_index('Date')"
      ]
    },
    {
      "cell_type": "markdown",
      "metadata": {
        "id": "KACG8zfl-n_3"
      },
      "source": [
        "# daily"
      ]
    },
    {
      "cell_type": "code",
      "execution_count": null,
      "metadata": {
        "id": "usiFS_-C8_wP"
      },
      "outputs": [],
      "source": [
        "# Teachers data\n",
        "dff_daily1 = dff['Teachers_usage'].resample('D').mean()\n",
        "dff_daily1 = dff_daily1.reset_index()\n",
        "dff_daily1 = dff_daily1.set_index('Date')\n",
        "#student usages\n",
        "dff_daily2 = dff['Student_uasge'].resample('D').mean()\n",
        "dff_daily2 = dff_daily2.reset_index()\n",
        "dff_daily2 = dff_daily2.set_index('Date')"
      ]
    },
    {
      "cell_type": "markdown",
      "metadata": {
        "id": "XebpS4iT-qEH"
      },
      "source": [
        "# Weekly"
      ]
    },
    {
      "cell_type": "code",
      "execution_count": null,
      "metadata": {
        "id": "b3cBRwnP-rti"
      },
      "outputs": [],
      "source": [
        "dff_week1 = dff['Teachers_usage'].resample('W').mean()\n",
        "dff_week1 = dff_week1.reset_index()\n",
        "dff_week1 = dff_week1.set_index('Date')\n",
        "\n",
        "\n",
        "dff_week2 = dff['Student_uasge'].resample('W').mean()\n",
        "dff_week2 = dff_week2.reset_index()\n",
        "dff_week2 = dff_week2.set_index('Date')"
      ]
    },
    {
      "cell_type": "markdown",
      "metadata": {
        "id": "hTuwD4hjIWPY"
      },
      "source": [
        "#Slot3"
      ]
    },
    {
      "cell_type": "code",
      "execution_count": null,
      "metadata": {
        "id": "WyZUFDT7IVbl"
      },
      "outputs": [],
      "source": [
        "from google.colab import files\n",
        "uploaded = files.upload()"
      ]
    },
    {
      "cell_type": "code",
      "execution_count": null,
      "metadata": {
        "id": "u1yg2_dUIauq"
      },
      "outputs": [],
      "source": [
        "from google.colab import files\n",
        "uploaded = files.upload()"
      ]
    },
    {
      "cell_type": "code",
      "execution_count": null,
      "metadata": {
        "id": "0nv-OrxZIe6_"
      },
      "outputs": [],
      "source": [
        "d1 = pd.read_csv(io.StringIO(uploaded['nov_slot_3.csv'].decode('utf-8')))"
      ]
    },
    {
      "cell_type": "code",
      "execution_count": null,
      "metadata": {
        "id": "Px6APwVsIe99"
      },
      "outputs": [],
      "source": [
        "d2 = pd.read_csv(io.StringIO(uploaded['dec_slot_3.csv'].decode('utf-8')))"
      ]
    },
    {
      "cell_type": "code",
      "execution_count": null,
      "metadata": {
        "id": "ZBGT3-nXJIx5"
      },
      "outputs": [],
      "source": [
        "data = pd.concat([d1, d2], ignore_index=True)"
      ]
    },
    {
      "cell_type": "code",
      "execution_count": null,
      "metadata": {
        "id": "onQm4jNZJIzT"
      },
      "outputs": [],
      "source": [
        "#dff = pd.read_csv(io.StringIO(uploaded['slot_2.csv'].decode('utf-8')))\n",
        "# converting to datetime object\n",
        "data['Date'] = pd.to_datetime(data[\"Date\"])\n",
        "#set index\n",
        "data = data.set_index('Date')"
      ]
    },
    {
      "cell_type": "markdown",
      "metadata": {
        "id": "XIaERCoTJtU2"
      },
      "source": [
        "## daily"
      ]
    },
    {
      "cell_type": "code",
      "execution_count": null,
      "metadata": {
        "id": "T1wFOpOqJI3B"
      },
      "outputs": [],
      "source": [
        "# Teachers data\n",
        "data_daily1 = data['Teachers_usage'].resample('D').mean()\n",
        "data_daily1 = data_daily1.reset_index()\n",
        "data_daily1 = data_daily1.set_index('Date')\n",
        "#student usages\n",
        "data_daily2 = data['Student_uasge'].resample('D').mean()\n",
        "data_daily2 = data_daily2.reset_index()\n",
        "data_daily2 = data_daily2.set_index('Date')"
      ]
    },
    {
      "cell_type": "markdown",
      "metadata": {
        "id": "4GA-pzfUKdJj"
      },
      "source": [
        "## Weekly"
      ]
    },
    {
      "cell_type": "code",
      "execution_count": null,
      "metadata": {
        "id": "aEMyXssEKhfm"
      },
      "outputs": [],
      "source": [
        "data_week1 = data['Teachers_usage'].resample('W').mean()\n",
        "data_week1 = data_week1.reset_index()\n",
        "data_week1 = data_week1.set_index('Date')\n",
        "\n",
        "\n",
        "data_week2 = data['Student_uasge'].resample('W').mean()\n",
        "data_week2 = data_week2.reset_index()\n",
        "data_week2 = data_week2.set_index('Date')"
      ]
    },
    {
      "cell_type": "code",
      "execution_count": null,
      "metadata": {
        "id": "iye0aSfdQfsl"
      },
      "outputs": [],
      "source": [
        "import matplotlib.dates as mdates"
      ]
    },
    {
      "cell_type": "markdown",
      "metadata": {
        "id": "bRYfVzZv9wOq"
      },
      "source": [
        "## Plot"
      ]
    },
    {
      "cell_type": "markdown",
      "metadata": {
        "id": "ML9Ow_Mu-2tr"
      },
      "source": [
        "## daily plot"
      ]
    },
    {
      "cell_type": "code",
      "execution_count": null,
      "metadata": {
        "id": "pumicPLl9xOU"
      },
      "outputs": [],
      "source": [
        "# Start and end of the date range to extract\n",
        "start, end = '2021-11-15', '2021-12-06'\n",
        "# Plot daily and weekly resampled time series together\n",
        "fig, ax = plt.subplots()\n",
        "ax.plot(df_daily1.loc[start:end, 'Teachers_usage'],\n",
        "marker='.', linestyle='-', label='Teachers_slot1')\n",
        "\n",
        "ax.plot(df_daily2.loc[start:end, 'Student_uasge'],\n",
        "marker='o', markersize=8, linestyle='-', label='Student_slot1')\n",
        "\n",
        "ax.plot(dff_daily1.loc[start:end, 'Teachers_usage'],\n",
        "marker='o', markersize=8, linestyle='-', label='Teachers_slot2')\n",
        "\n",
        "ax.plot(dff_daily2.loc[start:end, 'Student_uasge'],\n",
        "marker='o', markersize=8, linestyle='-', label='students_slot_2')\n",
        "\n",
        "ax.plot(data_daily1.loc[start:end, 'Teachers_usage'],\n",
        "marker='o', markersize=8, linestyle='-', label='Teachers_slot3')\n",
        "\n",
        "ax.plot(data_daily2.loc[start:end, 'Student_uasge'],\n",
        "marker='o', markersize=8, linestyle='-', label='students_slot_3')\n",
        "\n",
        "\n",
        "\n",
        "\n",
        "ax.set_ylabel('Minutes')\n",
        "ax.set_xlabel('Days ---->')\n",
        "\n",
        "\n",
        "# Format x-tick labels as 3-letter month name and day number\n",
        "ax.xaxis.set_major_formatter(mdates.DateFormatter('%b %d'))\n",
        "ax.set_title('Daily beneficiaries KEF Application usage ', size=18)\n",
        "ax.legend(loc='left', bbox_to_anchor=(1, 0.5))\n"
      ]
    },
    {
      "cell_type": "markdown",
      "metadata": {
        "id": "tL256KdD-5Dr"
      },
      "source": [
        "## weekly plot"
      ]
    },
    {
      "cell_type": "code",
      "execution_count": null,
      "metadata": {
        "id": "dJKbDPen-59j"
      },
      "outputs": [],
      "source": [
        "# Start and end of the date range to extract\n",
        "start, end = '2021-08-03', '2021-12-06'\n",
        "# Plot daily and weekly resampled time series together\n",
        "fig, ax = plt.subplots()\n",
        "ax.plot(df_week1.loc[start:end, 'Teachers_usage'],\n",
        "marker='.', linestyle='-', label='Teachers_slot1')\n",
        "\n",
        "ax.plot(df_week2.loc[start:end, 'Student_uasge'],\n",
        "marker='o', markersize=8, linestyle='-', label='Student_slot1')\n",
        "\n",
        "ax.plot(dff_week1.loc[start:end, 'Teachers_usage'],\n",
        "marker='o', markersize=8, linestyle='-', label='Teachers_slot2')\n",
        "\n",
        "ax.plot(dff_week2.loc[start:end, 'Student_uasge'],\n",
        "marker='o', markersize=8, linestyle='-', label='students_slot_2')\n",
        "\n",
        "ax.plot(data_week1.loc[start:end, 'Teachers_usage'],\n",
        "marker='o', markersize=12, linestyle='-', label='Teachers_slot3')\n",
        "\n",
        "ax.plot(data_week2.loc[start:end, 'Student_uasge'],\n",
        "marker='o', markersize=12, linestyle='-', label='students_slot_3')\n",
        "\n",
        "ax.set_ylabel('Minutes')\n",
        "ax.set_xlabel('Weeks ---->')\n",
        "\n",
        "\n",
        "# Format x-tick labels as 3-letter month name and day number\n",
        "ax.xaxis.set_major_formatter(mdates.DateFormatter('%b %d'))\n",
        "ax.set_title('Weekley beneficiaries KEF Application usage ', size=18)\n",
        "ax.legend(loc='left', bbox_to_anchor=(1, 0.5))\n"
      ]
    },
    {
      "cell_type": "code",
      "execution_count": null,
      "metadata": {
        "id": "esZzoVGkQzoj"
      },
      "outputs": [],
      "source": [
        ""
      ]
    }
  ],
  "metadata": {
    "colab": {
      "name": "Copy of compact_usages_login.ipynb",
      "provenance": [],
      "authorship_tag": "ABX9TyP33cnmTSs3O5ioOcnLL1Gr",
      "include_colab_link": true
    },
    "kernelspec": {
      "display_name": "Python 3",
      "name": "python3"
    },
    "language_info": {
      "name": "python"
    }
  },
  "nbformat": 4,
  "nbformat_minor": 0
}