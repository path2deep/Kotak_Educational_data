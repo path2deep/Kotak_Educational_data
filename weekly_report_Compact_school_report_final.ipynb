{
  "nbformat": 4,
  "nbformat_minor": 0,
  "metadata": {
    "colab": {
      "name": "weekly_report_Compact_school_report_final.ipynb",
      "provenance": [],
      "authorship_tag": "ABX9TyPw39c5wXyGRNdM385h1f3n",
      "include_colab_link": true
    },
    "kernelspec": {
      "display_name": "Python 3",
      "name": "python3"
    },
    "language_info": {
      "name": "python"
    }
  },
  "cells": [
    {
      "cell_type": "markdown",
      "metadata": {
        "id": "view-in-github",
        "colab_type": "text"
      },
      "source": [
        "<a href=\"https://colab.research.google.com/github/path2deep/Kotak_Educational_data/blob/main/weekly_report_Compact_school_report_final.ipynb\" target=\"_parent\"><img src=\"https://colab.research.google.com/assets/colab-badge.svg\" alt=\"Open In Colab\"/></a>"
      ]
    },
    {
      "cell_type": "code",
      "metadata": {
        "id": "mJvMqGWE2_c5"
      },
      "source": [
        "import pandas as pd\n",
        "import numpy as np\n",
        "import io\n",
        "import seaborn as sns \n",
        "import matplotlib.pyplot as plt\n",
        "from google.colab import files"
      ],
      "execution_count": null,
      "outputs": []
    },
    {
      "cell_type": "markdown",
      "metadata": {
        "id": "Jq80IfaP3HYV"
      },
      "source": [
        "#Uploading the data"
      ]
    },
    {
      "cell_type": "markdown",
      "metadata": {
        "id": "lgitZ5eQBzNt"
      },
      "source": [
        "### Upload the excel file downloaded from the KEF portal"
      ]
    },
    {
      "cell_type": "code",
      "metadata": {
        "colab": {
          "resources": {
            "http://localhost:8080/nbextensions/google.colab/files.js": {
              "data": "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",
              "ok": true,
              "headers": [
                [
                  "content-type",
                  "application/javascript"
                ]
              ],
              "status": 200,
              "status_text": ""
            }
          },
          "base_uri": "https://localhost:8080/",
          "height": 73
        },
        "id": "XwDmf2R43A65",
        "outputId": "3fdce86c-1da0-428d-8123-1a26e71d3c78"
      },
      "source": [
        "uploaded = files.upload()"
      ],
      "execution_count": null,
      "outputs": [
        {
          "output_type": "display_data",
          "data": {
            "text/html": [
              "\n",
              "     <input type=\"file\" id=\"files-af62ee7c-0c7e-454c-83f0-ee0282f7cbf5\" name=\"files[]\" multiple disabled\n",
              "        style=\"border:none\" />\n",
              "     <output id=\"result-af62ee7c-0c7e-454c-83f0-ee0282f7cbf5\">\n",
              "      Upload widget is only available when the cell has been executed in the\n",
              "      current browser session. Please rerun this cell to enable.\n",
              "      </output>\n",
              "      <script src=\"/nbextensions/google.colab/files.js\"></script> "
            ],
            "text/plain": [
              "<IPython.core.display.HTML object>"
            ]
          },
          "metadata": {}
        },
        {
          "output_type": "stream",
          "name": "stdout",
          "text": [
            "Saving vikas high.xlsx to vikas high.xlsx\n"
          ]
        }
      ]
    },
    {
      "cell_type": "markdown",
      "metadata": {
        "id": "vXgW9zul3RJd"
      },
      "source": [
        "## uasage and login data"
      ]
    },
    {
      "cell_type": "code",
      "metadata": {
        "id": "LK0pgH7z3NGe"
      },
      "source": [
        "file = io.BytesIO(uploaded.get(\"vikas high.xlsx\"))\n",
        "#working data\n",
        "usage = pd.read_excel(file, 'Video Usage')\n",
        "login = pd.read_excel(file, 'Login History')\n",
        "\n",
        "# copying\n",
        "df = usage.copy()\n",
        "dff = login.copy()\n",
        "dff1 = usage.copy()\n",
        "dff2 = login.copy()"
      ],
      "execution_count": null,
      "outputs": []
    },
    {
      "cell_type": "markdown",
      "metadata": {
        "id": "bZn8l7-_3lTX"
      },
      "source": [
        "#Analyzing the usage data and login"
      ]
    },
    {
      "cell_type": "code",
      "metadata": {
        "id": "G-7BhZGw3g1j"
      },
      "source": [
        "#Function for data usage\n",
        "df = usage.copy()\n",
        "def students_usage(report, input_name):\n",
        "  global df\n",
        "\n",
        "  \n",
        "  #converting into datetime\n",
        "  \n",
        "  df['Date'] = df['LastAccessDateTime'].str.split(' ').str[0]\n",
        "  df[\"Date\"] = pd.to_datetime(df[\"Date\"], format=\"%d-%m-%Y\", yearfirst=True)\n",
        "\n",
        "  #set index\n",
        "  df = df.set_index('Date')\n",
        "\n",
        "  #creating new columns\n",
        "  df['Year'] = df.index.year\n",
        "  df['Month'] = df.index.month\n",
        "  df['Weekdays'] = df.index.weekday\n",
        "  df['Day'] = df.index.day\n",
        "\n",
        "  # input the students\n",
        "  #input_name = input('input_name')\n",
        "  df = df[df['Student/Teacher'] == input_name ]\n",
        "\n",
        "  # calculating the reading time spent by students in a day\n",
        "  df = df.reset_index()\n",
        "  df = df.groupby(['Date','StudentName']).agg({'TotalViewDuration':'sum'})\n",
        "  df = df.reset_index()\n",
        "\n",
        "  # calculating mean, median and total time spent by students\n",
        "  df = df.groupby(['StudentName']).agg(mean=('TotalViewDuration', np.mean),median=('TotalViewDuration', np.median),sum=('TotalViewDuration', np.sum))\n",
        "  return df.reset_index()\n",
        "\n",
        "\n",
        "#Function for login\n",
        "\n",
        "dff = login.copy()\n",
        "def student_login(report,input_name):\n",
        "  global dff\n",
        "  \n",
        "\n",
        "  # change the datetime format\n",
        "  dff['Date'] = dff['LoginDateTime'].str.split(' ').str[0]\n",
        "  df1 = dff.copy()\n",
        "  lst = list()\n",
        "  for num in range (0, len(df1.index)):\n",
        "    lst.append('12')\n",
        "  lst1 = list()\n",
        "  for num in range (0, len(df1.index)):\n",
        "    lst1.append('2021')\n",
        "\n",
        "  # assigning the year, month and combining\n",
        "  df1['Year'] = lst1\n",
        "  df1['Month'] = lst\n",
        "  df1['Dates'] = df1['Date']+'-'+df1['Month']+'-'+df1['Year']\n",
        "  df1[\"Dates\"] = pd.to_datetime(df1[\"Dates\"], format=\"%d-%m-%Y\", yearfirst=True)\n",
        "\n",
        "  #Setting index and creating new columns\n",
        "  df1 = df1.set_index('Dates')\n",
        "  df1['Year'] = df1.index.year\n",
        "  df1['Month'] = df1.index.month\n",
        "  df1['Day'] = df1.index.day\n",
        "\n",
        "  login_tea = df1.copy()\n",
        "\n",
        "  #input the student \n",
        "  #input_name = input('input_name')\n",
        "  df_student = login_tea[login_tea['Student/Teacher'] == input_name ]\n",
        "\n",
        "  #number of login\n",
        "  logn = df_student.reset_index()\n",
        "  logn = logn.drop_duplicates(subset=['School','UserID','StudentName', 'Day'], keep='first')\n",
        "  logn = logn.groupby(['School','UserID','StudentName'], as_index=True).agg({'Date': 'count'})\n",
        "\n",
        "  return logn.reset_index()\n",
        "\n",
        "\n",
        "\n",
        "#Teachers Data Analysis\n",
        "dff1 = usage.copy()\n",
        "def teachers_usage(rep, input_name):\n",
        "  global dff1\n",
        "  dff1['Date'] = dff1['LastAccessDateTime'].str.split(' ').str[0]\n",
        "  dff1[\"Date\"] = pd.to_datetime(dff1[\"Date\"], format=\"%d-%m-%Y\", yearfirst=True)\n",
        "\n",
        "  #set index\n",
        "  dff1 = dff1.set_index('Date')\n",
        "  #creating new columns\n",
        "  dff1['Year'] = dff1.index.year\n",
        "  dff1['Month'] = dff1.index.month\n",
        "  dff1['Weekdays'] = dff1.index.weekday\n",
        "  dff1['Day'] = dff1.index.day\n",
        "\n",
        "  #input the teachers data\n",
        "  #input_name = input('input_name')\n",
        "  dff1 = dff1[dff1['Student/Teacher'] == input_name ]\n",
        "  dff1 = dff1.reset_index()\n",
        "\n",
        "  # student daily usages \n",
        "  dff1 = dff1.groupby(['Date','StudentName']).agg({'TotalViewDuration':'sum'})\n",
        "  dff1 = dff1.reset_index()\n",
        "\n",
        "  # calculating median, mean and total watch\n",
        "  dff1 = dff1.groupby(['StudentName']).agg(mean=('TotalViewDuration', np.mean),median=('TotalViewDuration', np.median),sum=('TotalViewDuration', np.sum))\n",
        "\n",
        "  return dff1.reset_index()\n",
        "  \n",
        "# Teachers login\n",
        "\n",
        "dff2 = login.copy()\n",
        "def teachers_login(repo,input_name):\n",
        "  global dff2\n",
        "  \n",
        "\n",
        "  # change the datetime format\n",
        "  dff2['Date'] = dff2['LoginDateTime'].str.split(' ').str[0]\n",
        "  #df1 = dff2.copy()\n",
        "  lst = list()\n",
        "  for num in range (0, len(dff2.index)):\n",
        "    lst.append('12')\n",
        "  lst1 = list()\n",
        "  for num in range (0, len(dff2.index)):\n",
        "    lst1.append('2021')\n",
        "\n",
        "  # assigning the year, month and combining\n",
        "  dff2['Year'] = lst1\n",
        "  dff2['Month'] = lst\n",
        "  dff2['Dates'] = dff2['Date']+'-'+dff2['Month']+'-'+dff2['Year']\n",
        "  dff2[\"Dates\"] = pd.to_datetime(dff2[\"Dates\"], format=\"%d-%m-%Y\", yearfirst=True)\n",
        "\n",
        "  #Setting index and creating new columns\n",
        "  dff2 = dff2.set_index('Dates')\n",
        "  dff2['Year'] = dff2.index.year\n",
        "  dff2['Month'] = dff2.index.month\n",
        "  dff2['Day'] = dff2.index.day\n",
        "\n",
        "  login_tea = dff2.copy()\n",
        "\n",
        "  #input the student \n",
        "  #input_name = input('input_name')\n",
        "  df_tea = login_tea[login_tea['Student/Teacher'] == input_name ]\n",
        "\n",
        "  #number of login\n",
        "  logn = df_tea.reset_index()\n",
        "  logn = logn.drop_duplicates(subset=['School','StudentName', 'Day'], keep='first')\n",
        "  logn = logn.groupby(['School','StudentName'], as_index=True).agg({'Date': 'count'})\n",
        "\n",
        "  return logn.reset_index()"
      ],
      "execution_count": null,
      "outputs": []
    },
    {
      "cell_type": "markdown",
      "metadata": {
        "id": "X8JFTBfZbzeO"
      },
      "source": [
        "#START"
      ]
    },
    {
      "cell_type": "markdown",
      "metadata": {
        "id": "uMZM3rxFCA-r"
      },
      "source": [
        "### Enter \"Student\" in the appeared box"
      ]
    },
    {
      "cell_type": "code",
      "metadata": {
        "colab": {
          "base_uri": "https://localhost:8080/"
        },
        "id": "5H-g32Mw4C1Z",
        "outputId": "404106ba-75dd-4edb-d054-c2bb020cb5da"
      },
      "source": [
        "# enter 'student' name\n",
        "usages= students_usage(df, input_name = input('input_name'))"
      ],
      "execution_count": null,
      "outputs": [
        {
          "name": "stdout",
          "output_type": "stream",
          "text": [
            "input_nameStudent\n"
          ]
        }
      ]
    },
    {
      "cell_type": "code",
      "metadata": {
        "id": "zhELamfe4C4P",
        "colab": {
          "base_uri": "https://localhost:8080/"
        },
        "outputId": "f4607bac-cfb2-4bad-83f7-31156a271265"
      },
      "source": [
        "# enter 'student' name \n",
        "logins = student_login(dff, input_name = input('input_name'))"
      ],
      "execution_count": null,
      "outputs": [
        {
          "name": "stdout",
          "output_type": "stream",
          "text": [
            "input_nameStudent\n"
          ]
        }
      ]
    },
    {
      "cell_type": "code",
      "source": [
        "teachers_use = teachers_usage(dff1, input_name = input('input_name'))"
      ],
      "metadata": {
        "colab": {
          "base_uri": "https://localhost:8080/"
        },
        "id": "DTo1qF36UNY7",
        "outputId": "fee832c7-0204-45e8-89f7-f95ab759808f"
      },
      "execution_count": null,
      "outputs": [
        {
          "name": "stdout",
          "output_type": "stream",
          "text": [
            "input_nameTeacher\n"
          ]
        }
      ]
    },
    {
      "cell_type": "code",
      "source": [
        "teachers_login = teachers_login(dff2, input_name = input('input_name'))"
      ],
      "metadata": {
        "colab": {
          "base_uri": "https://localhost:8080/"
        },
        "id": "0xlINZ40UNdh",
        "outputId": "2d611874-0de1-42fb-c6e4-f3b31e8cc571"
      },
      "execution_count": null,
      "outputs": [
        {
          "name": "stdout",
          "output_type": "stream",
          "text": [
            "input_nameTeacher\n"
          ]
        }
      ]
    },
    {
      "cell_type": "markdown",
      "metadata": {
        "id": "cm8KFT6JUmG5"
      },
      "source": [
        "## For Student"
      ]
    },
    {
      "cell_type": "code",
      "metadata": {
        "id": "SgHG5xIe4jBL"
      },
      "source": [
        "students_report = pd.merge(logins,\n",
        "                         usages,\n",
        "                         on = 'StudentName',\n",
        "                         how = 'outer'\n",
        "                         )\n",
        "\n",
        "teachers_report = pd.merge(teachers_login,\n",
        "                         teachers_use,\n",
        "                         on = 'StudentName',\n",
        "                         how = 'outer'\n",
        "                         )"
      ],
      "execution_count": null,
      "outputs": []
    },
    {
      "cell_type": "markdown",
      "metadata": {
        "id": "v1Qw-RoP5zlf"
      },
      "source": [
        "##Download the file"
      ]
    },
    {
      "cell_type": "code",
      "metadata": {
        "id": "ElAWdszb4jEB"
      },
      "source": [
        "students_report.to_excel(\"final_report_student_vikas high.xlsx\")\n",
        "teachers_report.to_excel(\"final_report_teacher_vikas high.xlsx\")"
      ],
      "execution_count": null,
      "outputs": []
    },
    {
      "cell_type": "code",
      "metadata": {
        "id": "wNowwSLEgqKC"
      },
      "source": [
        "\n"
      ],
      "execution_count": null,
      "outputs": []
    }
  ]
}