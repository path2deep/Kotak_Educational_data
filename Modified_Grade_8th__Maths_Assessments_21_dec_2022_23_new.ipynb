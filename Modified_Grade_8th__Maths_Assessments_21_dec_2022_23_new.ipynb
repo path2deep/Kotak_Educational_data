{
  "nbformat": 4,
  "nbformat_minor": 0,
  "metadata": {
    "colab": {
      "provenance": [],
      "authorship_tag": "ABX9TyOzJ0kq4f1P8OyAvATUtC9x",
      "include_colab_link": true
    },
    "kernelspec": {
      "name": "python3",
      "display_name": "Python 3"
    },
    "language_info": {
      "name": "python"
    }
  },
  "cells": [
    {
      "cell_type": "markdown",
      "metadata": {
        "id": "view-in-github",
        "colab_type": "text"
      },
      "source": [
        "<a href=\"https://colab.research.google.com/github/path2deep/Kotak_Educational_data/blob/main/Modified_Grade_8th__Maths_Assessments_21_dec_2022_23_new.ipynb\" target=\"_parent\"><img src=\"https://colab.research.google.com/assets/colab-badge.svg\" alt=\"Open In Colab\"/></a>"
      ]
    },
    {
      "cell_type": "code",
      "execution_count": null,
      "metadata": {
        "id": "VAAaTSEPkKJj"
      },
      "outputs": [],
      "source": [
        "import pandas as pd\n",
        "import numpy as np\n",
        "import io\n",
        "import seaborn as sns \n",
        "import matplotlib.pyplot as plt\n",
        "from google.colab import files"
      ]
    },
    {
      "cell_type": "markdown",
      "source": [
        "##uploading all assessments file"
      ],
      "metadata": {
        "id": "ZT7LHT5LlBXs"
      }
    },
    {
      "cell_type": "markdown",
      "source": [
        "#####Marathi"
      ],
      "metadata": {
        "id": "HWDLqlsfQ2Sq"
      }
    },
    {
      "cell_type": "code",
      "source": [
        "uploaded = files.upload()"
      ],
      "metadata": {
        "colab": {
          "base_uri": "https://localhost:8080/",
          "height": 73
        },
        "id": "R3ShI0Ark6h1",
        "outputId": "79081f5a-43c8-40b4-fe07-f3bbde08bae2"
      },
      "execution_count": null,
      "outputs": [
        {
          "output_type": "display_data",
          "data": {
            "text/plain": [
              "<IPython.core.display.HTML object>"
            ],
            "text/html": [
              "\n",
              "     <input type=\"file\" id=\"files-7244225b-604c-428a-b790-a01658dbb897\" name=\"files[]\" multiple disabled\n",
              "        style=\"border:none\" />\n",
              "     <output id=\"result-7244225b-604c-428a-b790-a01658dbb897\">\n",
              "      Upload widget is only available when the cell has been executed in the\n",
              "      current browser session. Please rerun this cell to enable.\n",
              "      </output>\n",
              "      <script>// Copyright 2017 Google LLC\n",
              "//\n",
              "// Licensed under the Apache License, Version 2.0 (the \"License\");\n",
              "// you may not use this file except in compliance with the License.\n",
              "// You may obtain a copy of the License at\n",
              "//\n",
              "//      http://www.apache.org/licenses/LICENSE-2.0\n",
              "//\n",
              "// Unless required by applicable law or agreed to in writing, software\n",
              "// distributed under the License is distributed on an \"AS IS\" BASIS,\n",
              "// WITHOUT WARRANTIES OR CONDITIONS OF ANY KIND, either express or implied.\n",
              "// See the License for the specific language governing permissions and\n",
              "// limitations under the License.\n",
              "\n",
              "/**\n",
              " * @fileoverview Helpers for google.colab Python module.\n",
              " */\n",
              "(function(scope) {\n",
              "function span(text, styleAttributes = {}) {\n",
              "  const element = document.createElement('span');\n",
              "  element.textContent = text;\n",
              "  for (const key of Object.keys(styleAttributes)) {\n",
              "    element.style[key] = styleAttributes[key];\n",
              "  }\n",
              "  return element;\n",
              "}\n",
              "\n",
              "// Max number of bytes which will be uploaded at a time.\n",
              "const MAX_PAYLOAD_SIZE = 100 * 1024;\n",
              "\n",
              "function _uploadFiles(inputId, outputId) {\n",
              "  const steps = uploadFilesStep(inputId, outputId);\n",
              "  const outputElement = document.getElementById(outputId);\n",
              "  // Cache steps on the outputElement to make it available for the next call\n",
              "  // to uploadFilesContinue from Python.\n",
              "  outputElement.steps = steps;\n",
              "\n",
              "  return _uploadFilesContinue(outputId);\n",
              "}\n",
              "\n",
              "// This is roughly an async generator (not supported in the browser yet),\n",
              "// where there are multiple asynchronous steps and the Python side is going\n",
              "// to poll for completion of each step.\n",
              "// This uses a Promise to block the python side on completion of each step,\n",
              "// then passes the result of the previous step as the input to the next step.\n",
              "function _uploadFilesContinue(outputId) {\n",
              "  const outputElement = document.getElementById(outputId);\n",
              "  const steps = outputElement.steps;\n",
              "\n",
              "  const next = steps.next(outputElement.lastPromiseValue);\n",
              "  return Promise.resolve(next.value.promise).then((value) => {\n",
              "    // Cache the last promise value to make it available to the next\n",
              "    // step of the generator.\n",
              "    outputElement.lastPromiseValue = value;\n",
              "    return next.value.response;\n",
              "  });\n",
              "}\n",
              "\n",
              "/**\n",
              " * Generator function which is called between each async step of the upload\n",
              " * process.\n",
              " * @param {string} inputId Element ID of the input file picker element.\n",
              " * @param {string} outputId Element ID of the output display.\n",
              " * @return {!Iterable<!Object>} Iterable of next steps.\n",
              " */\n",
              "function* uploadFilesStep(inputId, outputId) {\n",
              "  const inputElement = document.getElementById(inputId);\n",
              "  inputElement.disabled = false;\n",
              "\n",
              "  const outputElement = document.getElementById(outputId);\n",
              "  outputElement.innerHTML = '';\n",
              "\n",
              "  const pickedPromise = new Promise((resolve) => {\n",
              "    inputElement.addEventListener('change', (e) => {\n",
              "      resolve(e.target.files);\n",
              "    });\n",
              "  });\n",
              "\n",
              "  const cancel = document.createElement('button');\n",
              "  inputElement.parentElement.appendChild(cancel);\n",
              "  cancel.textContent = 'Cancel upload';\n",
              "  const cancelPromise = new Promise((resolve) => {\n",
              "    cancel.onclick = () => {\n",
              "      resolve(null);\n",
              "    };\n",
              "  });\n",
              "\n",
              "  // Wait for the user to pick the files.\n",
              "  const files = yield {\n",
              "    promise: Promise.race([pickedPromise, cancelPromise]),\n",
              "    response: {\n",
              "      action: 'starting',\n",
              "    }\n",
              "  };\n",
              "\n",
              "  cancel.remove();\n",
              "\n",
              "  // Disable the input element since further picks are not allowed.\n",
              "  inputElement.disabled = true;\n",
              "\n",
              "  if (!files) {\n",
              "    return {\n",
              "      response: {\n",
              "        action: 'complete',\n",
              "      }\n",
              "    };\n",
              "  }\n",
              "\n",
              "  for (const file of files) {\n",
              "    const li = document.createElement('li');\n",
              "    li.append(span(file.name, {fontWeight: 'bold'}));\n",
              "    li.append(span(\n",
              "        `(${file.type || 'n/a'}) - ${file.size} bytes, ` +\n",
              "        `last modified: ${\n",
              "            file.lastModifiedDate ? file.lastModifiedDate.toLocaleDateString() :\n",
              "                                    'n/a'} - `));\n",
              "    const percent = span('0% done');\n",
              "    li.appendChild(percent);\n",
              "\n",
              "    outputElement.appendChild(li);\n",
              "\n",
              "    const fileDataPromise = new Promise((resolve) => {\n",
              "      const reader = new FileReader();\n",
              "      reader.onload = (e) => {\n",
              "        resolve(e.target.result);\n",
              "      };\n",
              "      reader.readAsArrayBuffer(file);\n",
              "    });\n",
              "    // Wait for the data to be ready.\n",
              "    let fileData = yield {\n",
              "      promise: fileDataPromise,\n",
              "      response: {\n",
              "        action: 'continue',\n",
              "      }\n",
              "    };\n",
              "\n",
              "    // Use a chunked sending to avoid message size limits. See b/62115660.\n",
              "    let position = 0;\n",
              "    do {\n",
              "      const length = Math.min(fileData.byteLength - position, MAX_PAYLOAD_SIZE);\n",
              "      const chunk = new Uint8Array(fileData, position, length);\n",
              "      position += length;\n",
              "\n",
              "      const base64 = btoa(String.fromCharCode.apply(null, chunk));\n",
              "      yield {\n",
              "        response: {\n",
              "          action: 'append',\n",
              "          file: file.name,\n",
              "          data: base64,\n",
              "        },\n",
              "      };\n",
              "\n",
              "      let percentDone = fileData.byteLength === 0 ?\n",
              "          100 :\n",
              "          Math.round((position / fileData.byteLength) * 100);\n",
              "      percent.textContent = `${percentDone}% done`;\n",
              "\n",
              "    } while (position < fileData.byteLength);\n",
              "  }\n",
              "\n",
              "  // All done.\n",
              "  yield {\n",
              "    response: {\n",
              "      action: 'complete',\n",
              "    }\n",
              "  };\n",
              "}\n",
              "\n",
              "scope.google = scope.google || {};\n",
              "scope.google.colab = scope.google.colab || {};\n",
              "scope.google.colab._files = {\n",
              "  _uploadFiles,\n",
              "  _uploadFilesContinue,\n",
              "};\n",
              "})(self);\n",
              "</script> "
            ]
          },
          "metadata": {}
        },
        {
          "output_type": "stream",
          "name": "stdout",
          "text": [
            "Saving 8th Std Semi with Marathi Math-Sci (Maths Baseline (Marathi)).xlsx to 8th Std Semi with Marathi Math-Sci (Maths Baseline (Marathi)).xlsx\n"
          ]
        }
      ]
    },
    {
      "cell_type": "code",
      "source": [
        "file = io.BytesIO(uploaded.get(\"8th Std Semi with Marathi Math-Sci (Maths Baseline (Marathi)).xlsx\"))\n",
        "math1 = pd.read_excel(file, 'Report')"
      ],
      "metadata": {
        "id": "jhttYNESlGb9"
      },
      "execution_count": null,
      "outputs": []
    },
    {
      "cell_type": "markdown",
      "source": [
        "##### Semi Marathi"
      ],
      "metadata": {
        "id": "fqBd6pCSKrB8"
      }
    },
    {
      "cell_type": "code",
      "source": [
        "uploaded = files.upload()"
      ],
      "metadata": {
        "id": "vgXTQWcDKxvk"
      },
      "execution_count": null,
      "outputs": []
    },
    {
      "cell_type": "code",
      "source": [
        "file = io.BytesIO(uploaded.get(\"8th Std Semi with Marathi Math-Sci (Maths Baseline (Semi)).xlsx\"))\n",
        "math2 = pd.read_excel(file, 'Report')"
      ],
      "metadata": {
        "id": "Dn8I9tX_Kx6B"
      },
      "execution_count": null,
      "outputs": []
    },
    {
      "cell_type": "markdown",
      "source": [
        "#### Analysis"
      ],
      "metadata": {
        "id": "XYDeiH9-K8xt"
      }
    },
    {
      "cell_type": "code",
      "source": [
        "# Mathmatics Marathi\n",
        "# print('The toal number of entries in mathematics Marathi', math1.shape)\n",
        "\n",
        "# removing all entries with multiple selection\n",
        "math1_1 = math1[~(math1 == 0).any(axis=1)]\n",
        "\n",
        "#total number of records after removing multiple selection\n",
        "# print('The total number of record after removing multiple selection', math1_1.shape)\n",
        "\n",
        "# removing the duplicates and keepking last recorded entries\n",
        "math1_1 = math1_1.drop_duplicates(subset=['EnrollmentID'], keep='last')\n",
        "\n",
        "# total number of records after removin the duplicates\n",
        "# print('The final number records in math marathi', math1_1.shape)\n",
        "\n",
        "# Mathematics Semi\n",
        "# print('the total number of records in Science Semi', math2.shape )\n",
        "\n",
        "# removing all entries with multiple selection\n",
        "\n",
        "math2_2 = math2[~(math2 == 0).any(axis=1)]\n",
        "# Total entries number records after removing multiple selection\n",
        "# print('the total number of records after removing multiple selection', math2_2.shape)\n",
        "\n",
        "# removing the duplicates and keeping the last entries\n",
        "math2_2 = math2_2.drop_duplicates(subset=['EnrollmentID'], keep='last')\n",
        "\n",
        "#total number of records after removing the dubplicates\n",
        "# print('the final records in math semi marathi ', math2_2.shape )\n",
        "\n",
        "\n",
        "## combining all files\n",
        "math = pd.concat([math1_1, math2_2], ignore_index=True)\n",
        "# Total number of records after combining both files\n",
        "# print('Total number of records for marathi and semi', math.shape)"
      ],
      "metadata": {
        "id": "ks_s7JCKK5jt"
      },
      "execution_count": null,
      "outputs": []
    },
    {
      "cell_type": "markdown",
      "source": [
        "### Mapping"
      ],
      "metadata": {
        "id": "iSeoPmPKMYV-"
      }
    },
    {
      "cell_type": "code",
      "source": [
        "# selecting the proper columns\n",
        "\n",
        "math = math[['School','EnrollmentID','StudentName','IndexNo',\n",
        "             641690003,         641690004,         641690005,641690006,         641690007,         641690008,\n",
        "             641690009,         641690010,         641690011,641690012,         641690013,         641690014,\n",
        "             641690015,         641690016,         641690017,641690018,         641690019,         641690020,\n",
        "             641690021,         641690022,         641690023,641690024,         641690025,         641690026,\n",
        "             641690027,         641690028,         641690029,641690030,\n",
        "             641689948,         641689949,                   641689950,         641689951,         641689952,\n",
        "             641689953,         641689954,         641689955,641689956,         641689957,         641689958,\n",
        "             641689959,         641689960,         641689961,641689962,         641689963,         641689964,\n",
        "             641689965,         641689966,         641689967,641689968,         641689969,         641689970,\n",
        "             641689971,         641689972,         641689973,641689974,         641689975\n",
        "             ]]\n",
        "\n",
        "# converting option selected to marks\n",
        "\n",
        "#Marathi\n",
        "math['641690003_Marks'] = [1 if x == 3 else 0 for x in math[641690003]]\n",
        "math['641690004_Marks'] = [2 if x == 2 else 0 for x in math[641690004]]\n",
        "math['641690005_Marks'] = [1 if x == 1 else 0 for x in math[641690005]]\n",
        "math['641690006_Marks'] = [1 if x == 2 else 0 for x in math[641690006]]\n",
        "math['641690007_Marks'] = [2 if x == 4 else 0 for x in math[641690007]]\n",
        "math['641690008_Marks'] = [1 if x == 3 else 0 for x in math[641690008]]\n",
        "math['641690009_Marks'] = [2 if x == 1 else 0 for x in math[641690009]]\n",
        "\n",
        "math['641690010_Marks'] = [1 if x == 1 else 0 for x in math[641690010]]\n",
        "math['641690011_Marks'] = [2 if x == 4 else 0 for x in math[641690011]]\n",
        "math['641690012_Marks'] = [2 if x == 3 else 0 for x in math[641690012]]\n",
        "math['641690013_Marks'] = [1 if x == 1 else 0 for x in math[641690013]]\n",
        "math['641690014_Marks'] = [1 if x == 2 else 0 for x in math[641690014]]\n",
        "math['641690015_Marks'] = [2 if x == 4 else 0 for x in math[641690015]]\n",
        "math['641690016_Marks'] = [1 if x == 1 else 0 for x in math[641690016]]\n",
        "\n",
        "math['641690017_Marks'] = [2 if x == 3 else 0 for x in math[641690017]]\n",
        "math['641690018_Marks'] = [1 if x == 2 else 0 for x in math[641690018]]\n",
        "math['641690019_Marks'] = [1 if x == 1 else 0 for x in math[641690019]]\n",
        "math['641690020_Marks'] = [2 if x == 2 else 0 for x in math[641690020]]\n",
        "math['641690021_Marks'] = [2 if x == 1 else 0 for x in math[641690021]]\n",
        "math['641690022_Marks'] = [1 if x == 2 else 0 for x in math[641690022]]\n",
        "math['641690023_Marks'] = [1 if x == 1 else 0 for x in math[641690023]]\n",
        "\n",
        "math['641690024_Marks'] = [1 if x == 1 else 0 for x in math[641690024]]\n",
        "math['641690025_Marks'] = [2 if x == 1 else 0 for x in math[641690025]]\n",
        "math['641690026_Marks'] = [1 if x == 1 else 0 for x in math[641690026]]\n",
        "math['641690027_Marks'] = [1 if x == 2 else 0 for x in math[641690027]]\n",
        "math['641690028_Marks'] = [2 if x == 2 else 0 for x in math[641690028]]\n",
        "math['641690029_Marks'] = [2 if x == 1 else 0 for x in math[641690029]]\n",
        "math['641690030_Marks'] = [1 if x == 2 else 0 for x in math[641690030]]\n",
        "\n",
        "\n",
        "#Semi Marathi\n",
        "\n",
        "math['641689948_Marks'] = [1 if x == 3 else 0 for x in math[641689948]]\n",
        "math['641689949_Marks'] = [2 if x == 2 else 0 for x in math[641689949]]\n",
        "math['641689950_Marks'] = [1 if x == 1 else 0 for x in math[641689950]]\n",
        "math['641689951_Marks'] = [1 if x == 2 else 0 for x in math[641689951]]\n",
        "math['641689952_Marks'] = [2 if x == 4 else 0 for x in math[641689952]]\n",
        "math['641689953_Marks'] = [1 if x == 3 else 0 for x in math[641689953]]\n",
        "math['641689954_Marks'] = [2 if x == 1 else 0 for x in math[641689954]]\n",
        "\n",
        "math['641689955_Marks'] = [1 if x == 1 else 0 for x in math[641689955]]\n",
        "math['641689956_Marks'] = [2 if x == 4 else 0 for x in math[641689956]]\n",
        "math['641689957_Marks'] = [2 if x == 3 else 0 for x in math[641689957]]\n",
        "math['641689958_Marks'] = [1 if x == 1 else 0 for x in math[641689958]]\n",
        "math['641689959_Marks'] = [1 if x == 2 else 0 for x in math[641689959]]\n",
        "math['641689960_Marks'] = [2 if x == 4 else 0 for x in math[641689960]]\n",
        "math['641689961_Marks'] = [1 if x == 1 else 0 for x in math[641689961]]\n",
        "\n",
        "math['641689962_Marks'] = [2 if x == 3 else 0 for x in math[641689962]]\n",
        "math['641689963_Marks'] = [1 if x == 2 else 0 for x in math[641689963]]\n",
        "math['641689964_Marks'] = [1 if x == 1 else 0 for x in math[641689964]]\n",
        "math['641689965_Marks'] = [2 if x == 2 else 0 for x in math[641689965]]\n",
        "math['641689966_Marks'] = [2 if x == 1 else 0 for x in math[641689966]]\n",
        "math['641689967_Marks'] = [1 if x == 2 else 0 for x in math[641689967]]\n",
        "math['641689968_Marks'] = [1 if x == 1 else 0 for x in math[641689968]]\n",
        "\n",
        "math['641689969_Marks'] = [1 if x == 1 else 0 for x in math[641689969]]\n",
        "math['641689970_Marks'] = [2 if x == 1 else 0 for x in math[641689970]]\n",
        "math['641689971_Marks'] = [1 if x == 1 else 0 for x in math[641689971]]\n",
        "math['641689972_Marks'] = [1 if x == 2 else 0 for x in math[641689972]]\n",
        "math['641689973_Marks'] = [2 if x == 2 else 0 for x in math[641689973]]\n",
        "math['641689974_Marks'] = [2 if x == 1 else 0 for x in math[641689974]]\n",
        "math['641689975_Marks'] = [1 if x == 2 else 0 for x in math[641689975]]\n",
        "\n",
        "# total marks obtained\n",
        "\n",
        "math['Marks_Obatined'] = math['641690003_Marks']+math['641690004_Marks']+math['641690005_Marks']                         +math['641690006_Marks']+\\\n",
        "                         math['641690007_Marks']+math['641690008_Marks']+math['641690009_Marks']+ math['641690010_Marks']+math['641690011_Marks']+\\\n",
        "                         math['641690012_Marks']+math['641690013_Marks']+math['641690014_Marks']+ math['641690015_Marks']+math['641690016_Marks']+\\\n",
        "                         math['641690017_Marks']+math['641690018_Marks']+math['641690019_Marks']+math['641690020_Marks']+ math['641690021_Marks']                        +\\\n",
        "                         math['641690022_Marks']+math['641690023_Marks']+math['641690024_Marks']+ math['641690025_Marks']+math['641690026_Marks']+\\\n",
        "                         math['641690027_Marks']+math['641690028_Marks']+math['641690029_Marks']+ math['641690030_Marks']                        +\\\n",
        "                         math['641689948_Marks']+math['641689949_Marks']+math['641689950_Marks']+ math['641689951_Marks']+math['641689952_Marks']+\\\n",
        "                         math['641689953_Marks']+math['641689954_Marks']+math['641689955_Marks']+ math['641689956_Marks']+math['641689957_Marks']+\\\n",
        "                         math['641689958_Marks']+math['641689959_Marks']+math['641689960_Marks']+ math['641689961_Marks']+math['641689962_Marks']+\\\n",
        "                         math['641689963_Marks']+math['641689964_Marks']+math['641689965_Marks']+ math['641689966_Marks']+math['641689967_Marks']+\\\n",
        "                         math['641689968_Marks']+math['641689969_Marks']+math['641689970_Marks']+ math['641689971_Marks']+math['641689972_Marks']+\\\n",
        "                         math['641689973_Marks']+math['641689974_Marks']+math['641689975_Marks']                      \n",
        "\n",
        "\n",
        "\n",
        "# sorting the marks obtained\n",
        "math = math.sort_values('Marks_Obatined')\n",
        "# removing the duplicated and keeping the last\n",
        "math= math.drop_duplicates('EnrollmentID', keep='last')\n"
      ],
      "metadata": {
        "id": "DpV8pGd-Ybih"
      },
      "execution_count": null,
      "outputs": []
    },
    {
      "cell_type": "markdown",
      "source": [
        "#### Downlaoding the files"
      ],
      "metadata": {
        "id": "ID5AoBw1NgAC"
      }
    },
    {
      "cell_type": "code",
      "source": [
        "math.to_excel('grade_8th_math_marks_obtained.xlsx')"
      ],
      "metadata": {
        "id": "OC8j-2D6tBp2"
      },
      "execution_count": null,
      "outputs": []
    },
    {
      "cell_type": "code",
      "source": [],
      "metadata": {
        "id": "YSMlXTtb7Qgm"
      },
      "execution_count": null,
      "outputs": []
    }
  ]
}