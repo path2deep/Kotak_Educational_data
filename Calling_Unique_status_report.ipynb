{
  "nbformat": 4,
  "nbformat_minor": 0,
  "metadata": {
    "colab": {
      "name": "Calling_Unique_status_report.ipynb",
      "provenance": [],
      "authorship_tag": "ABX9TyP7hgHb8Ko6fr83Lji7WBnX",
      "include_colab_link": true
    },
    "kernelspec": {
      "name": "python3",
      "display_name": "Python 3"
    },
    "language_info": {
      "name": "python"
    }
  },
  "cells": [
    {
      "cell_type": "markdown",
      "metadata": {
        "id": "view-in-github",
        "colab_type": "text"
      },
      "source": [
        "<a href=\"https://colab.research.google.com/github/path2deep/Kotak_Educational_data/blob/main/Calling_Unique_status_report.ipynb\" target=\"_parent\"><img src=\"https://colab.research.google.com/assets/colab-badge.svg\" alt=\"Open In Colab\"/></a>"
      ]
    },
    {
      "cell_type": "code",
      "execution_count": 1,
      "metadata": {
        "id": "cG-Btr21wWIw"
      },
      "outputs": [],
      "source": [
        "import pandas as pd\n",
        "import numpy as np\n",
        "import io\n",
        "import seaborn as sns \n",
        "import matplotlib.pyplot as plt\n",
        "from google.colab import files"
      ]
    },
    {
      "cell_type": "code",
      "source": [
        "from google.colab import auth\n",
        "auth.authenticate_user()\n",
        "\n",
        "import gspread\n",
        "from google.auth import default\n",
        "creds, _ = default()\n",
        "\n",
        "gc = gspread.authorize(creds)\n",
        "\n",
        "ws1 = gc.open_by_key('1KZfoXfpEQYZ63bkggh1N3sXbE67Jtzr7_AnP3E_xbTo')\n",
        "ws1 = ws1.get_worksheet(0)\n",
        "\n",
        "# get_all_values gives a list of rows.\n",
        "rows1 = ws1.get_all_values()\n",
        "df1 = pd.DataFrame.from_records(rows1[0:], columns=rows1[0])\n",
        "print('Total number of students in calling list1:',df1.shape)\n",
        "\n",
        "## Selecting the appropriate columns\n",
        "df1 = df1[['Resource_Name', 'KEF_ID', 'Student_Name', 'Index_Number','School_Name',\n",
        "           'Calling_Attempt','Calling_Status', 'Not_Connected_Reason', 'Spoken_to','Support_Calls_Activity']]\n",
        "\n",
        "df1['Calling_Status'].unique()\n",
        "## connected tablets\n",
        "connected = df1[df1['Calling_Status']=='Connected']\n",
        "unique_connected1 = connected.drop_duplicates(subset=['KEF_ID'])\n",
        "x =unique_connected1.shape[0]\n",
        "\n",
        "## second calling\n",
        "\n",
        "ws2 = gc.open_by_key('1e4bEnSevapYMO_pEg4YmK2xccGxIwcTeDSAdeJzblQE')\n",
        "ws2 = ws2.get_worksheet(0)\n",
        "\n",
        "# get_all_values gives a list of rows.\n",
        "rows2 = ws2.get_all_values()\n",
        "#data frame\n",
        "df2 = pd.DataFrame.from_records(rows2[0:], columns=rows2[0])\n",
        "\n",
        "## Selecting the appropriate columns\n",
        "df2 = df2[['Resource_Name', 'KEF_ID', 'Student_Name', 'Index_Number','School_Name',\n",
        "           'Calling_Attempt','Calling_Status', 'Not_Connected_Reason', 'Spoken_to','Support_Calls_Activity']]\n",
        "\n",
        "print('Total number of studnets in calling list 2',df2.shape)\n",
        "\n",
        "\n",
        "df2['Calling_Status'].unique()\n",
        "## connected tablets\n",
        "connected = df2[df2['Calling_Status']=='Connected']\n",
        "#print(connected.shape)\n",
        "\n",
        "unique_connected2 = connected.drop_duplicates(subset=['KEF_ID'])\n",
        "#print(unique_connected2.shape)\n",
        "\n",
        "y =unique_connected2.shape[0]\n",
        "\n",
        "## third calling status\n",
        "\n",
        "ws3 = gc.open_by_key('1EPjDXmY2NE4cEgMYKowS5gid52sm8DCFnT_D1rh3m4Q')\n",
        "ws3 =  ws3.get_worksheet(0)\n",
        "\n",
        "# get_all_values gives a list of rows.\n",
        "rows3 = ws3.get_all_values()\n",
        "#data frame\n",
        "df3 = pd.DataFrame.from_records(rows3[0:], columns=rows3[0])\n",
        "\n",
        "print('Total number of students in calling list 3',df3.shape)\n",
        "\n",
        "\n",
        "## Selecting the appropriate columns\n",
        "df3 = df3[['Resource_Name', 'KEF_ID', 'Student_Name', 'Index_Number','School_Name',\n",
        "           'Calling_Attempt','Calling_Status', 'Not_Connected_Reason', 'Spoken_to','Support_Calls_Activity']]\n",
        "\n",
        "#print(df3.shape)\n",
        "\n",
        "\n",
        "df3['Calling_Status'].unique()\n",
        "## connected tablets\n",
        "connected = df3[df3['Calling_Status']=='Connected']\n",
        "#print(connected.shape)\n",
        "\n",
        "unique_connected3 = connected.drop_duplicates(subset=['KEF_ID'])\n",
        "#print(unique_connected3.shape)\n",
        "\n",
        "z =unique_connected3.shape[0]\n",
        "\n",
        "## total connected calls\n",
        "total = x+y+z\n",
        "print('total number of Unique connected call:', total)"
      ],
      "metadata": {
        "colab": {
          "base_uri": "https://localhost:8080/"
        },
        "id": "ep_ATXZ7wcqF",
        "outputId": "a0ef8d36-a119-4e6d-a284-c99594904c9f"
      },
      "execution_count": 4,
      "outputs": [
        {
          "output_type": "stream",
          "name": "stdout",
          "text": [
            "Total number of students in calling list1: (1507, 96)\n",
            "Total number of studnets in calling list 2 (1000, 10)\n",
            "Total number of students in calling list 3 (1998, 95)\n",
            "total number of Unique connected call: 928\n"
          ]
        }
      ]
    },
    {
      "cell_type": "code",
      "source": [],
      "metadata": {
        "id": "Xjo5qQ4Cwcrx"
      },
      "execution_count": null,
      "outputs": []
    },
    {
      "cell_type": "code",
      "source": [],
      "metadata": {
        "id": "PyYz0wPswcvh"
      },
      "execution_count": null,
      "outputs": []
    }
  ]
}