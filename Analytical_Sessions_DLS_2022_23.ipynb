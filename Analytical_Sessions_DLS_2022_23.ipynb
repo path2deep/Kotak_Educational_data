{
  "nbformat": 4,
  "nbformat_minor": 0,
  "metadata": {
    "colab": {
      "provenance": [],
      "authorship_tag": "ABX9TyNPJamNgbIM7fxUAETOMDf0",
      "include_colab_link": true
    },
    "kernelspec": {
      "name": "python3",
      "display_name": "Python 3"
    },
    "language_info": {
      "name": "python"
    }
  },
  "cells": [
    {
      "cell_type": "markdown",
      "metadata": {
        "id": "view-in-github",
        "colab_type": "text"
      },
      "source": [
        "<a href=\"https://colab.research.google.com/github/path2deep/Kotak_Educational_data/blob/main/Analytical_Sessions_DLS_2022_23.ipynb\" target=\"_parent\"><img src=\"https://colab.research.google.com/assets/colab-badge.svg\" alt=\"Open In Colab\"/></a>"
      ]
    },
    {
      "cell_type": "code",
      "execution_count": 1,
      "metadata": {
        "id": "fEDqhCWgVB2h"
      },
      "outputs": [],
      "source": [
        "import pandas as pd\n",
        "import numpy as np\n",
        "import io\n",
        "import seaborn as sns \n",
        "import matplotlib.pyplot as plt\n",
        "from google.colab import files"
      ]
    },
    {
      "cell_type": "code",
      "source": [
        "from google.colab import auth\n",
        "auth.authenticate_user()\n",
        "\n",
        "import gspread\n",
        "from google.auth import default\n",
        "creds, _ = default()\n",
        "\n",
        "gc = gspread.authorize(creds)"
      ],
      "metadata": {
        "id": "UlAPdrMjVPgq"
      },
      "execution_count": 3,
      "outputs": []
    },
    {
      "cell_type": "markdown",
      "source": [
        "####Student Assessment Data: \"Mashtersheet:2021-23\""
      ],
      "metadata": {
        "id": "HeiunA9GSMUB"
      }
    },
    {
      "cell_type": "code",
      "source": [
        "ws = gc.open_by_key('1xJI5Zo3tGoqdvWTUtxsGqNcKBmILN4BcsW7nP3QyHNM')\n",
        "ws =  ws.get_worksheet(1)\n",
        "\n",
        "# get_all_values gives a list of rows.\n",
        "rows = ws.get_all_values()\n",
        "\n",
        "df = pd.DataFrame.from_records(rows[3:], columns=rows[2])\n",
        "df.columns = df.columns.str.replace(' ','')\n",
        "df =df.iloc[0: , 0:25]\n",
        "#selecting\n",
        "df.columns = ['IndexNum', 'SchoolName', 'Medium', 'Semi/Vernac', 'Slot', 'SCDCoordinator', 'Student Plan', \n",
        "              'EnglishResponseReccived', 'EnglishFail(<35%)','EnglishPassClass(35-49)', 'EnglishSecondClass(50-60%)','EnglishFirstClass(61-74%)','EnglishDistinction(>75)',\n",
        "              'MathResponseReccived', 'MathFail(<35%)','MathPassClass(35-49)', 'MathSecondClass(50-60%)','MathFirstClass(61-74%)','MathDistinction(>75)',\n",
        "              'ScienceResponseReccived', 'ScienceFail(<35%)','SciencePassClass(35-49)', 'ScienceSecondClass(50-60%)','ScienceFirstClass(61-74%)','ScienceDistinction(>75)',]\n",
        "df = df[['IndexNum', 'SchoolName', 'Medium',\n",
        "         'EnglishResponseReccived', 'EnglishFail(<35%)','EnglishPassClass(35-49)', 'EnglishSecondClass(50-60%)','EnglishFirstClass(61-74%)','EnglishDistinction(>75)',\n",
        "         'MathResponseReccived', 'MathFail(<35%)','MathPassClass(35-49)', 'MathSecondClass(50-60%)','MathFirstClass(61-74%)','MathDistinction(>75)',\n",
        "         'ScienceResponseReccived', 'ScienceFail(<35%)','SciencePassClass(35-49)', 'ScienceSecondClass(50-60%)','ScienceFirstClass(61-74%)','ScienceDistinction(>75)',]]\n",
        "\n"
      ],
      "metadata": {
        "id": "-e62VSdgVP5W"
      },
      "execution_count": 5,
      "outputs": []
    },
    {
      "cell_type": "markdown",
      "source": [
        "### Inventory Sheet"
      ],
      "metadata": {
        "id": "WDqyfwQgNh9z"
      }
    },
    {
      "cell_type": "code",
      "source": [
        "ws = gc.open_by_key('1_f2Ug529lt4XbwHx5eNMt0lMUPAfh3EYY_3Iq5Arxqo')\n",
        "ws =  ws.get_worksheet(6)\n",
        "\n",
        "# get_all_values gives a list of rows.\n",
        "rows = ws.get_all_values()\n",
        "\n",
        "dff = pd.DataFrame.from_records(rows[2:], columns=rows[1])\n",
        "dff.columns = dff.columns.str.replace(' ','')\n",
        "\n",
        "#analytical Session\n",
        "analytical = pd.merge(df, \n",
        "                       dff,\n",
        "                    left_on = 'IndexNum',\n",
        "                    right_on = 'IndexNumber',\n",
        "                    how = 'left'\n",
        "                    )\n",
        "\n",
        "#downlaing data\n",
        "from gspread_dataframe import set_with_dataframe\n",
        "title = 'AnalyticalSession-2022-23'\n",
        "gc.create(title)  # if not exist\n",
        "sheet = gc.open(title).sheet1\n",
        "set_with_dataframe(sheet, analytical)"
      ],
      "metadata": {
        "id": "wv2ERNZcPXph"
      },
      "execution_count": 6,
      "outputs": []
    },
    {
      "cell_type": "code",
      "source": [],
      "metadata": {
        "id": "GcVdi0OBVae2"
      },
      "execution_count": null,
      "outputs": []
    }
  ]
}