{
  "nbformat": 4,
  "nbformat_minor": 0,
  "metadata": {
    "colab": {
      "provenance": [],
      "authorship_tag": "ABX9TyOT4m4PZl+eMWO9Xf3yV9K1",
      "include_colab_link": true
    },
    "kernelspec": {
      "name": "python3",
      "display_name": "Python 3"
    },
    "language_info": {
      "name": "python"
    }
  },
  "cells": [
    {
      "cell_type": "markdown",
      "metadata": {
        "id": "view-in-github",
        "colab_type": "text"
      },
      "source": [
        "<a href=\"https://colab.research.google.com/github/path2deep/Kotak_Educational_data/blob/main/Modified_Grdae_8th__English_Assessments_English_21_dec_2022_23_new.ipynb\" target=\"_parent\"><img src=\"https://colab.research.google.com/assets/colab-badge.svg\" alt=\"Open In Colab\"/></a>"
      ]
    },
    {
      "cell_type": "code",
      "execution_count": null,
      "metadata": {
        "id": "VAAaTSEPkKJj"
      },
      "outputs": [],
      "source": [
        "import pandas as pd\n",
        "import numpy as np\n",
        "import io\n",
        "import seaborn as sns \n",
        "import matplotlib.pyplot as plt\n",
        "from google.colab import files"
      ]
    },
    {
      "cell_type": "markdown",
      "source": [
        "## uploading all assessments file"
      ],
      "metadata": {
        "id": "ZT7LHT5LlBXs"
      }
    },
    {
      "cell_type": "code",
      "source": [
        "uploaded = files.upload()"
      ],
      "metadata": {
        "colab": {
          "base_uri": "https://localhost:8080/",
          "height": 73
        },
        "id": "R3ShI0Ark6h1",
        "outputId": "c8e43dea-c40c-452b-887a-dfec05c12a15"
      },
      "execution_count": null,
      "outputs": [
        {
          "output_type": "display_data",
          "data": {
            "text/plain": [
              "<IPython.core.display.HTML object>"
            ],
            "text/html": [
              "\n",
              "     <input type=\"file\" id=\"files-a0d40b91-e2d6-43b3-b42a-0dfab01e0907\" name=\"files[]\" multiple disabled\n",
              "        style=\"border:none\" />\n",
              "     <output id=\"result-a0d40b91-e2d6-43b3-b42a-0dfab01e0907\">\n",
              "      Upload widget is only available when the cell has been executed in the\n",
              "      current browser session. Please rerun this cell to enable.\n",
              "      </output>\n",
              "      <script>// Copyright 2017 Google LLC\n",
              "//\n",
              "// Licensed under the Apache License, Version 2.0 (the \"License\");\n",
              "// you may not use this file except in compliance with the License.\n",
              "// You may obtain a copy of the License at\n",
              "//\n",
              "//      http://www.apache.org/licenses/LICENSE-2.0\n",
              "//\n",
              "// Unless required by applicable law or agreed to in writing, software\n",
              "// distributed under the License is distributed on an \"AS IS\" BASIS,\n",
              "// WITHOUT WARRANTIES OR CONDITIONS OF ANY KIND, either express or implied.\n",
              "// See the License for the specific language governing permissions and\n",
              "// limitations under the License.\n",
              "\n",
              "/**\n",
              " * @fileoverview Helpers for google.colab Python module.\n",
              " */\n",
              "(function(scope) {\n",
              "function span(text, styleAttributes = {}) {\n",
              "  const element = document.createElement('span');\n",
              "  element.textContent = text;\n",
              "  for (const key of Object.keys(styleAttributes)) {\n",
              "    element.style[key] = styleAttributes[key];\n",
              "  }\n",
              "  return element;\n",
              "}\n",
              "\n",
              "// Max number of bytes which will be uploaded at a time.\n",
              "const MAX_PAYLOAD_SIZE = 100 * 1024;\n",
              "\n",
              "function _uploadFiles(inputId, outputId) {\n",
              "  const steps = uploadFilesStep(inputId, outputId);\n",
              "  const outputElement = document.getElementById(outputId);\n",
              "  // Cache steps on the outputElement to make it available for the next call\n",
              "  // to uploadFilesContinue from Python.\n",
              "  outputElement.steps = steps;\n",
              "\n",
              "  return _uploadFilesContinue(outputId);\n",
              "}\n",
              "\n",
              "// This is roughly an async generator (not supported in the browser yet),\n",
              "// where there are multiple asynchronous steps and the Python side is going\n",
              "// to poll for completion of each step.\n",
              "// This uses a Promise to block the python side on completion of each step,\n",
              "// then passes the result of the previous step as the input to the next step.\n",
              "function _uploadFilesContinue(outputId) {\n",
              "  const outputElement = document.getElementById(outputId);\n",
              "  const steps = outputElement.steps;\n",
              "\n",
              "  const next = steps.next(outputElement.lastPromiseValue);\n",
              "  return Promise.resolve(next.value.promise).then((value) => {\n",
              "    // Cache the last promise value to make it available to the next\n",
              "    // step of the generator.\n",
              "    outputElement.lastPromiseValue = value;\n",
              "    return next.value.response;\n",
              "  });\n",
              "}\n",
              "\n",
              "/**\n",
              " * Generator function which is called between each async step of the upload\n",
              " * process.\n",
              " * @param {string} inputId Element ID of the input file picker element.\n",
              " * @param {string} outputId Element ID of the output display.\n",
              " * @return {!Iterable<!Object>} Iterable of next steps.\n",
              " */\n",
              "function* uploadFilesStep(inputId, outputId) {\n",
              "  const inputElement = document.getElementById(inputId);\n",
              "  inputElement.disabled = false;\n",
              "\n",
              "  const outputElement = document.getElementById(outputId);\n",
              "  outputElement.innerHTML = '';\n",
              "\n",
              "  const pickedPromise = new Promise((resolve) => {\n",
              "    inputElement.addEventListener('change', (e) => {\n",
              "      resolve(e.target.files);\n",
              "    });\n",
              "  });\n",
              "\n",
              "  const cancel = document.createElement('button');\n",
              "  inputElement.parentElement.appendChild(cancel);\n",
              "  cancel.textContent = 'Cancel upload';\n",
              "  const cancelPromise = new Promise((resolve) => {\n",
              "    cancel.onclick = () => {\n",
              "      resolve(null);\n",
              "    };\n",
              "  });\n",
              "\n",
              "  // Wait for the user to pick the files.\n",
              "  const files = yield {\n",
              "    promise: Promise.race([pickedPromise, cancelPromise]),\n",
              "    response: {\n",
              "      action: 'starting',\n",
              "    }\n",
              "  };\n",
              "\n",
              "  cancel.remove();\n",
              "\n",
              "  // Disable the input element since further picks are not allowed.\n",
              "  inputElement.disabled = true;\n",
              "\n",
              "  if (!files) {\n",
              "    return {\n",
              "      response: {\n",
              "        action: 'complete',\n",
              "      }\n",
              "    };\n",
              "  }\n",
              "\n",
              "  for (const file of files) {\n",
              "    const li = document.createElement('li');\n",
              "    li.append(span(file.name, {fontWeight: 'bold'}));\n",
              "    li.append(span(\n",
              "        `(${file.type || 'n/a'}) - ${file.size} bytes, ` +\n",
              "        `last modified: ${\n",
              "            file.lastModifiedDate ? file.lastModifiedDate.toLocaleDateString() :\n",
              "                                    'n/a'} - `));\n",
              "    const percent = span('0% done');\n",
              "    li.appendChild(percent);\n",
              "\n",
              "    outputElement.appendChild(li);\n",
              "\n",
              "    const fileDataPromise = new Promise((resolve) => {\n",
              "      const reader = new FileReader();\n",
              "      reader.onload = (e) => {\n",
              "        resolve(e.target.result);\n",
              "      };\n",
              "      reader.readAsArrayBuffer(file);\n",
              "    });\n",
              "    // Wait for the data to be ready.\n",
              "    let fileData = yield {\n",
              "      promise: fileDataPromise,\n",
              "      response: {\n",
              "        action: 'continue',\n",
              "      }\n",
              "    };\n",
              "\n",
              "    // Use a chunked sending to avoid message size limits. See b/62115660.\n",
              "    let position = 0;\n",
              "    do {\n",
              "      const length = Math.min(fileData.byteLength - position, MAX_PAYLOAD_SIZE);\n",
              "      const chunk = new Uint8Array(fileData, position, length);\n",
              "      position += length;\n",
              "\n",
              "      const base64 = btoa(String.fromCharCode.apply(null, chunk));\n",
              "      yield {\n",
              "        response: {\n",
              "          action: 'append',\n",
              "          file: file.name,\n",
              "          data: base64,\n",
              "        },\n",
              "      };\n",
              "\n",
              "      let percentDone = fileData.byteLength === 0 ?\n",
              "          100 :\n",
              "          Math.round((position / fileData.byteLength) * 100);\n",
              "      percent.textContent = `${percentDone}% done`;\n",
              "\n",
              "    } while (position < fileData.byteLength);\n",
              "  }\n",
              "\n",
              "  // All done.\n",
              "  yield {\n",
              "    response: {\n",
              "      action: 'complete',\n",
              "    }\n",
              "  };\n",
              "}\n",
              "\n",
              "scope.google = scope.google || {};\n",
              "scope.google.colab = scope.google.colab || {};\n",
              "scope.google.colab._files = {\n",
              "  _uploadFiles,\n",
              "  _uploadFilesContinue,\n",
              "};\n",
              "})(self);\n",
              "</script> "
            ]
          },
          "metadata": {}
        },
        {
          "output_type": "stream",
          "name": "stdout",
          "text": [
            "Saving 8th Std Semi with Marathi Math-Sci (English Baseline).xlsx to 8th Std Semi with Marathi Math-Sci (English Baseline).xlsx\n"
          ]
        }
      ]
    },
    {
      "cell_type": "code",
      "source": [
        "file = io.BytesIO(uploaded.get(\"8th Std Semi with Marathi Math-Sci (English Baseline).xlsx\"))\n",
        "eng1 = pd.read_excel(file, 'Report')"
      ],
      "metadata": {
        "id": "jhttYNESlGb9"
      },
      "execution_count": null,
      "outputs": []
    },
    {
      "cell_type": "markdown",
      "source": [
        "#### Analysis"
      ],
      "metadata": {
        "id": "jg0dt_aUP3Hw"
      }
    },
    {
      "cell_type": "code",
      "source": [
        "# English\n",
        "# print('The toal number of entries in english', eng1.shape)\n",
        "\n",
        "# removing all entries with multiple selection\n",
        "eng1_1 = eng1[~(eng1 == 0).any(axis=1)]\n",
        "\n",
        "#total number of records after removing multiple selection\n",
        "# print('The total number of record after removing multiple selection', eng1_1.shape)\n",
        "\n",
        "# removing the duplicates and keepking last recorded entries\n",
        "eng1_1 = eng1_1.drop_duplicates(subset=['EnrollmentID'], keep='last')\n",
        "\n",
        "# total number of records after removin the duplicates\n",
        "# print('The final number records in English', eng1_1.shape)\n",
        "\n",
        "\n",
        "## combining all files\n",
        "eng = eng1_1.copy()\n",
        "# Total number of records after combining both files\n",
        "# print('Total number of records for marathi and semi', eng.shape)"
      ],
      "metadata": {
        "id": "fULLgAeuP6dj"
      },
      "execution_count": null,
      "outputs": []
    },
    {
      "cell_type": "markdown",
      "source": [
        "### Mapping"
      ],
      "metadata": {
        "id": "09dm1FtmQrq_"
      }
    },
    {
      "cell_type": "code",
      "source": [
        "# selecting the proper columns\n",
        "eng = eng[['School','EnrollmentID','StudentName','IndexNo',\n",
        "           641689913,         641689914,         641689915,641689916,         641689917,         641689918,\n",
        "           641689919,         641689920,         641689921,641689922,         641689923,         641689924,\n",
        "           641689925,         641689926,         641689927,641689928,         641689929,         641689930,\n",
        "           641689931,         641689932,         641689933,641689934,         641689936,         641689937,\n",
        "           641689938,         641689939,         641689940,641689941,         641689942,         641689943,\n",
        "           641689944,         641689945,         641689946,641689947]]\n",
        "\n",
        "# converting option selected to marks\n",
        "eng['641689913_Marks'] = [1 if x == 4 else 0 for x in eng[641689913]]\n",
        "eng['641689914_Marks'] = [1 if x == 3 else 0 for x in eng[641689914]]\n",
        "eng['641689915_Marks'] = [1 if x == 2 else 0 for x in eng[641689915]]\n",
        "eng['641689916_Marks'] = [1 if x == 2 else 0 for x in eng[641689916]]\n",
        "eng['641689917_Marks'] = [1 if x == 3 else 0 for x in eng[641689917]]\n",
        "eng['641689918_Marks'] = [1 if x == 1 else 0 for x in eng[641689918]]\n",
        "eng['641689919_Marks'] = [1 if x == 2 else 0 for x in eng[641689919]]\n",
        "\n",
        "eng['641689920_Marks'] = [1 if x == 4 else 0 for x in eng[641689920]]\n",
        "\n",
        "eng['641689921_Marks'] = [1 if x == 2 else 0 for x in eng[641689921]]\n",
        "eng['641689922_Marks'] = [1 if x == 2 else 0 for x in eng[641689922]]\n",
        "eng['641689923_Marks'] = [1 if x == 3 else 0 for x in eng[641689923]]\n",
        "eng['641689924_Marks'] = [1 if x == 2 else 0 for x in eng[641689924]]\n",
        "eng['641689925_Marks'] = [1 if x == 2 else 0 for x in eng[641689925]]\n",
        "eng['641689926_Marks'] = [1 if x == 1 else 0 for x in eng[641689926]]\n",
        "eng['641689927_Marks'] = [1 if x == 2 else 0 for x in eng[641689927]]\n",
        "eng['641689928_Marks'] = [1 if x == 3 else 0 for x in eng[641689928]]\n",
        "eng['641689929_Marks'] = [1 if x == 3 else 0 for x in eng[641689929]]\n",
        "eng['641689930_Marks'] = [1 if x == 1 else 0 for x in eng[641689930]]\n",
        "eng['641689931_Marks'] = [1 if x == 1 else 0 for x in eng[641689931]]\n",
        "\n",
        "eng['641689932_Marks'] = [1 if x == 2 else 0 for x in eng[641689932]]\n",
        "eng['641689933_Marks'] = [1 if x == 1 else 0 for x in eng[641689933]]\n",
        "eng['641689934_Marks'] = [1 if x == 4 else 0 for x in eng[641689934]]\n",
        "#eng['641689935_Marks'] = [2 if x == 2 else 0 for x in eng[641689935]]\n",
        "eng['641689936_Marks'] = [1 if x == 3 else 0 for x in eng[641689936]]\n",
        "eng['641689937_Marks'] = [1 if x == 3 else 0 for x in eng[641689937]]\n",
        "\n",
        "eng['641689938_Marks'] = [2 if x == 4 else 0 for x in eng[641689938]]\n",
        "\n",
        "eng['641689939_Marks'] = [1 if x == 3 else 0 for x in eng[641689939]]\n",
        "eng['641689940_Marks'] = [1 if x == 4 else 0 for x in eng[641689940]]\n",
        "eng['641689941_Marks'] = [2 if x == 1 else 0 for x in eng[641689941]]\n",
        "eng['641689942_Marks'] = [1 if x == 1 else 0 for x in eng[641689942]]\n",
        "eng['641689943_Marks'] = [1 if x == 4 else 0 for x in eng[641689943]]\n",
        "eng['641689944_Marks'] = [1 if x == 1 else 0 for x in eng[641689944]]\n",
        "eng['641689945_Marks'] = [1 if x == 2 else 0 for x in eng[641689945]]\n",
        "eng['641689946_Marks'] = [1 if x == 4 else 0 for x in eng[641689946]]\n",
        "eng['641689947_Marks'] = [3 if x == 3 else 0 for x in eng[641689947]]\n",
        "\n",
        "# total marks obtained\n",
        "\n",
        "eng['Marks_Obatined'] = eng['641689913_Marks']+eng['641689914_Marks']+eng['641689915_Marks']+ eng['641689916_Marks']+eng['641689917_Marks']+\\\n",
        "                        eng['641689918_Marks']+eng['641689919_Marks']+eng['641689920_Marks']+ eng['641689921_Marks']+eng['641689922_Marks']+\\\n",
        "                        eng['641689923_Marks']+eng['641689924_Marks']+eng['641689925_Marks']+ eng['641689926_Marks']+eng['641689927_Marks']+\\\n",
        "                        eng['641689928_Marks']+eng['641689929_Marks']+eng['641689930_Marks']+ eng['641689931_Marks']+eng['641689932_Marks']+\\\n",
        "                        eng['641689933_Marks']+eng['641689934_Marks']+                        eng['641689936_Marks']+eng['641689937_Marks']+\\\n",
        "                        eng['641689938_Marks']+eng['641689939_Marks']+eng['641689940_Marks']+ eng['641689941_Marks']+eng['641689942_Marks']+\\\n",
        "                        eng['641689943_Marks']+eng['641689944_Marks']+eng['641689945_Marks']+ eng['641689946_Marks']+eng['641689947_Marks']\n",
        "\n",
        "\n",
        "\n",
        "# sorting the marks obtained\n",
        "eng = eng.sort_values('Marks_Obatined')\n",
        "# removing the duplicated and keeping the last\n",
        "eng= eng.drop_duplicates('EnrollmentID', keep='last')"
      ],
      "metadata": {
        "id": "bJtflo08a4yu"
      },
      "execution_count": null,
      "outputs": []
    },
    {
      "cell_type": "markdown",
      "source": [
        "#### Downlaoding the files"
      ],
      "metadata": {
        "id": "mFofp0DrRXvM"
      }
    },
    {
      "cell_type": "code",
      "source": [
        "eng.to_excel('8thStandardsEnglishMarks_new.xlsx')"
      ],
      "metadata": {
        "id": "ZcnZUHx6oquN"
      },
      "execution_count": null,
      "outputs": []
    }
  ]
}